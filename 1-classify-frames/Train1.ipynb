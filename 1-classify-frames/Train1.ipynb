{
 "cells": [
  {
   "cell_type": "raw",
   "metadata": {},
   "source": [
    "Make dataset"
   ]
  },
  {
   "cell_type": "code",
   "execution_count": 1,
   "metadata": {},
   "outputs": [],
   "source": [
    "import numpy as np\n",
    "import os\n",
    "np.random.seed(42)"
   ]
  },
  {
   "cell_type": "code",
   "execution_count": 2,
   "metadata": {},
   "outputs": [
    {
     "data": {
      "text/plain": [
       "20398"
      ]
     },
     "execution_count": 2,
     "metadata": {},
     "output_type": "execute_result"
    }
   ],
   "source": [
    "\n",
    "# Create arrays with filenames and lables\n",
    "inFile = open(\"C:/Users/Lukas/Desktop/commaai-speed-challenge/data/train-grouped-optical-flow.txt\", \"r\")\n",
    "\n",
    "all_images = []\n",
    "all_labels = []\n",
    "for i, v in enumerate(inFile):\n",
    "    all_images.append(str(i)+\".jpg\")\n",
    "    all_labels.append(float(v))\n",
    "\n",
    "len(all_images)\n"
   ]
  },
  {
   "cell_type": "code",
   "execution_count": 3,
   "metadata": {},
   "outputs": [],
   "source": [
    "train_images, val_images, test_images = all_images[: 14280], all_images[14280 : 18360], all_images[18360 :]\n",
    "train_labels, val_labels, test_labels = all_labels[: 14280], all_labels[14280 : 18360], all_labels[18360 :]"
   ]
  },
  {
   "cell_type": "code",
   "execution_count": 4,
   "metadata": {},
   "outputs": [],
   "source": [
    "import random\n",
    "\n",
    "rand_train = list(zip(train_images, train_labels))\n",
    "random.shuffle(rand_train)\n",
    "train_images, train_labels = zip(*rand_train)\n",
    "\n",
    "rand_val = list(zip(val_images, val_labels))\n",
    "random.shuffle(rand_val)\n",
    "val_images, val_labels = zip(*rand_val)\n",
    "\n",
    "test_rand = list(zip(test_images, test_labels))\n",
    "random.shuffle(test_rand)\n",
    "test_images, test_labels = zip(*test_rand)"
   ]
  },
  {
   "cell_type": "code",
   "execution_count": 5,
   "metadata": {},
   "outputs": [],
   "source": [
    "train_images = np.array(train_images)\n",
    "train_labels = np.array(train_labels)\n",
    "\n",
    "val_images = np.array(val_images)\n",
    "val_labels = np.array(val_labels)\n",
    "\n",
    "test_images = np.array(test_images)\n",
    "test_labels = np.array(test_labels)"
   ]
  },
  {
   "cell_type": "code",
   "execution_count": 6,
   "metadata": {},
   "outputs": [],
   "source": [
    "import glob\n",
    "import numpy as np\n",
    "import matplotlib.pyplot as plt\n",
    "from keras.preprocessing.image import ImageDataGenerator, load_img, img_to_array, array_to_img\n",
    "%matplotlib inline"
   ]
  },
  {
   "cell_type": "code",
   "execution_count": 7,
   "metadata": {},
   "outputs": [
    {
     "name": "stdout",
     "output_type": "stream",
     "text": [
      "Train dataset shape: (14280, 150, 150, 3) \tValidation dataset shape: (4080, 150, 150, 3) \tTest dataset shape: (2038, 150, 150, 3)\n"
     ]
    }
   ],
   "source": [
    "\n",
    "IMG_DIM = (150, 150)\n",
    "\n",
    "train_images_array = [img_to_array(load_img(\"C:/Users/Lukas/Desktop/commaai-speed-challenge/data/frames/train-optical-flow/\"+img, target_size=IMG_DIM)) for img in train_images]\n",
    "train_images_array = np.array(train_images_array)\n",
    "\n",
    "val_images_array = [img_to_array(load_img(\"C:/Users/Lukas/Desktop/commaai-speed-challenge/data/frames/train-optical-flow/\"+img, target_size=IMG_DIM)) for img in val_images]\n",
    "val_images_array = np.array(val_images_array)\n",
    "\n",
    "test_images_array = [img_to_array(load_img(\"C:/Users/Lukas/Desktop/commaai-speed-challenge/data/frames/train-optical-flow/\"+img, target_size=IMG_DIM)) for img in test_images]\n",
    "test_images_array = np.array(test_images_array)\n",
    "\n",
    "print('Train dataset shape:', train_images_array.shape, '\\tValidation dataset shape:', val_images_array.shape, '\\tTest dataset shape:', test_images_array.shape)\n"
   ]
  },
  {
   "cell_type": "code",
   "execution_count": 8,
   "metadata": {},
   "outputs": [
    {
     "data": {
      "text/plain": [
       "array([0, 0, 3, ..., 0, 2, 0], dtype=int64)"
      ]
     },
     "execution_count": 8,
     "metadata": {},
     "output_type": "execute_result"
    }
   ],
   "source": [
    "# encode text category labels\n",
    "from sklearn.preprocessing import LabelEncoder\n",
    "\n",
    "le = LabelEncoder()\n",
    "le.fit(train_labels)\n",
    "train_labels_enc = le.transform(train_labels)\n",
    "val_labels_enc = le.transform(val_labels)\n",
    "test_labels_enc = le.transform(test_labels)\n",
    "\n",
    "val_labels_enc"
   ]
  },
  {
   "cell_type": "code",
   "execution_count": 9,
   "metadata": {},
   "outputs": [
    {
     "name": "stdout",
     "output_type": "stream",
     "text": [
      "(150, 150, 3)\n"
     ]
    },
    {
     "data": {
      "image/png": "[encoded data removed]",
      "text/plain": [
       "<PIL.Image.Image image mode=RGB size=150x150 at 0x1C7CEE94F10>"
      ]
     },
     "execution_count": 9,
     "metadata": {},
     "output_type": "execute_result"
    }
   ],
   "source": [
    "train_imgs_scaled = train_images_array.astype('float32')\n",
    "val_imgs_scaled  = val_images_array.astype('float32')\n",
    "test_imgs_scaled  = test_images_array.astype('float32')\n",
    "train_imgs_scaled /= 255\n",
    "val_imgs_scaled /= 255\n",
    "test_imgs_scaled /= 255\n",
    "\n",
    "print(train_images_array[0].shape)\n",
    "array_to_img(train_images_array[0])"
   ]
  },
  {
   "cell_type": "raw",
   "metadata": {},
   "source": [
    "Build model with transfer learning"
   ]
  },
  {
   "cell_type": "raw",
   "metadata": {},
   "source": [
    "Get VGG16"
   ]
  },
  {
   "cell_type": "code",
   "execution_count": 10,
   "metadata": {},
   "outputs": [],
   "source": [
    "from keras.applications import vgg16\n",
    "from keras.models import Model\n",
    "import keras\n",
    "import pandas as pd"
   ]
  },
  {
   "cell_type": "code",
   "execution_count": 11,
   "metadata": {},
   "outputs": [],
   "source": [
    "batch_size = 24\n",
    "num_classes = 7\n",
    "epochs = 20\n",
    "input_shape = (150, 150, 3)"
   ]
  },
  {
   "cell_type": "code",
   "execution_count": 12,
   "metadata": {},
   "outputs": [],
   "source": [
    "vgg = vgg16.VGG16(include_top=False, weights='imagenet', \n",
    "                                     input_shape=input_shape)"
   ]
  },
  {
   "cell_type": "code",
   "execution_count": 13,
   "metadata": {},
   "outputs": [],
   "source": [
    "output = vgg.layers[-1].output\n",
    "output = keras.layers.Flatten()(output)\n",
    "vgg_model = Model(vgg.input, output)\n"
   ]
  },
  {
   "cell_type": "code",
   "execution_count": 14,
   "metadata": {},
   "outputs": [],
   "source": [
    "vgg_model.trainable = False\n",
    "for layer in vgg_model.layers:\n",
    "    layer.trainable = False"
   ]
  },
  {
   "cell_type": "code",
   "execution_count": 15,
   "metadata": {},
   "outputs": [
    {
     "data": {
      "text/html": [
       "<div>\n",
       "<style scoped>\n",
       "    .dataframe tbody tr th:only-of-type {\n",
       "        vertical-align: middle;\n",
       "    }\n",
       "\n",
       "    .dataframe tbody tr th {\n",
       "        vertical-align: top;\n",
       "    }\n",
       "\n",
       "    .dataframe thead th {\n",
       "        text-align: right;\n",
       "    }\n",
       "</style>\n",
       "<table border=\"1\" class=\"dataframe\">\n",
       "  <thead>\n",
       "    <tr style=\"text-align: right;\">\n",
       "      <th></th>\n",
       "      <th>Layer Type</th>\n",
       "      <th>Layer Name</th>\n",
       "      <th>Layer Trainable</th>\n",
       "    </tr>\n",
       "  </thead>\n",
       "  <tbody>\n",
       "    <tr>\n",
       "      <th>0</th>\n",
       "      <td>&lt;tensorflow.python.keras.engine.input_layer.InputLayer object at 0x000001C7E71D3070&gt;</td>\n",
       "      <td>input_1</td>\n",
       "      <td>False</td>\n",
       "    </tr>\n",
       "    <tr>\n",
       "      <th>1</th>\n",
       "      <td>&lt;tensorflow.python.keras.layers.convolutional.Conv2D object at 0x000001CB1F9A3D00&gt;</td>\n",
       "      <td>block1_conv1</td>\n",
       "      <td>False</td>\n",
       "    </tr>\n",
       "    <tr>\n",
       "      <th>2</th>\n",
       "      <td>&lt;tensorflow.python.keras.layers.convolutional.Conv2D object at 0x000001CB1F9B58B0&gt;</td>\n",
       "      <td>block1_conv2</td>\n",
       "      <td>False</td>\n",
       "    </tr>\n",
       "    <tr>\n",
       "      <th>3</th>\n",
       "      <td>&lt;tensorflow.python.keras.layers.pooling.MaxPooling2D object at 0x000001CB1F9B5580&gt;</td>\n",
       "      <td>block1_pool</td>\n",
       "      <td>False</td>\n",
       "    </tr>\n",
       "    <tr>\n",
       "      <th>4</th>\n",
       "      <td>&lt;tensorflow.python.keras.layers.convolutional.Conv2D object at 0x000001CB1FA8FE20&gt;</td>\n",
       "      <td>block2_conv1</td>\n",
       "      <td>False</td>\n",
       "    </tr>\n",
       "    <tr>\n",
       "      <th>5</th>\n",
       "      <td>&lt;tensorflow.python.keras.layers.convolutional.Conv2D object at 0x000001CB1FA97250&gt;</td>\n",
       "      <td>block2_conv2</td>\n",
       "      <td>False</td>\n",
       "    </tr>\n",
       "    <tr>\n",
       "      <th>6</th>\n",
       "      <td>&lt;tensorflow.python.keras.layers.pooling.MaxPooling2D object at 0x000001CB1FA8A790&gt;</td>\n",
       "      <td>block2_pool</td>\n",
       "      <td>False</td>\n",
       "    </tr>\n",
       "    <tr>\n",
       "      <th>7</th>\n",
       "      <td>&lt;tensorflow.python.keras.layers.convolutional.Conv2D object at 0x000001CB1FAA3370&gt;</td>\n",
       "      <td>block3_conv1</td>\n",
       "      <td>False</td>\n",
       "    </tr>\n",
       "    <tr>\n",
       "      <th>8</th>\n",
       "      <td>&lt;tensorflow.python.keras.layers.convolutional.Conv2D object at 0x000001CB1FAA3AC0&gt;</td>\n",
       "      <td>block3_conv2</td>\n",
       "      <td>False</td>\n",
       "    </tr>\n",
       "    <tr>\n",
       "      <th>9</th>\n",
       "      <td>&lt;tensorflow.python.keras.layers.convolutional.Conv2D object at 0x000001CB1FAA1F40&gt;</td>\n",
       "      <td>block3_conv3</td>\n",
       "      <td>False</td>\n",
       "    </tr>\n",
       "    <tr>\n",
       "      <th>10</th>\n",
       "      <td>&lt;tensorflow.python.keras.layers.pooling.MaxPooling2D object at 0x000001CB1FAA3FD0&gt;</td>\n",
       "      <td>block3_pool</td>\n",
       "      <td>False</td>\n",
       "    </tr>\n",
       "    <tr>\n",
       "      <th>11</th>\n",
       "      <td>&lt;tensorflow.python.keras.layers.convolutional.Conv2D object at 0x000001CB1FAACC40&gt;</td>\n",
       "      <td>block4_conv1</td>\n",
       "      <td>False</td>\n",
       "    </tr>\n",
       "    <tr>\n",
       "      <th>12</th>\n",
       "      <td>&lt;tensorflow.python.keras.layers.convolutional.Conv2D object at 0x000001CB1FAACB20&gt;</td>\n",
       "      <td>block4_conv2</td>\n",
       "      <td>False</td>\n",
       "    </tr>\n",
       "    <tr>\n",
       "      <th>13</th>\n",
       "      <td>&lt;tensorflow.python.keras.layers.convolutional.Conv2D object at 0x000001CB1FAA6E50&gt;</td>\n",
       "      <td>block4_conv3</td>\n",
       "      <td>False</td>\n",
       "    </tr>\n",
       "    <tr>\n",
       "      <th>14</th>\n",
       "      <td>&lt;tensorflow.python.keras.layers.pooling.MaxPooling2D object at 0x000001CB1FAAACA0&gt;</td>\n",
       "      <td>block4_pool</td>\n",
       "      <td>False</td>\n",
       "    </tr>\n",
       "    <tr>\n",
       "      <th>15</th>\n",
       "      <td>&lt;tensorflow.python.keras.layers.convolutional.Conv2D object at 0x000001CB1FAB92B0&gt;</td>\n",
       "      <td>block5_conv1</td>\n",
       "      <td>False</td>\n",
       "    </tr>\n",
       "    <tr>\n",
       "      <th>16</th>\n",
       "      <td>&lt;tensorflow.python.keras.layers.convolutional.Conv2D object at 0x000001CB1FAB9490&gt;</td>\n",
       "      <td>block5_conv2</td>\n",
       "      <td>False</td>\n",
       "    </tr>\n",
       "    <tr>\n",
       "      <th>17</th>\n",
       "      <td>&lt;tensorflow.python.keras.layers.convolutional.Conv2D object at 0x000001CB1FABED30&gt;</td>\n",
       "      <td>block5_conv3</td>\n",
       "      <td>False</td>\n",
       "    </tr>\n",
       "    <tr>\n",
       "      <th>18</th>\n",
       "      <td>&lt;tensorflow.python.keras.layers.pooling.MaxPooling2D object at 0x000001CB1FAB9430&gt;</td>\n",
       "      <td>block5_pool</td>\n",
       "      <td>False</td>\n",
       "    </tr>\n",
       "    <tr>\n",
       "      <th>19</th>\n",
       "      <td>&lt;tensorflow.python.keras.layers.core.Flatten object at 0x000001CB1FAF8910&gt;</td>\n",
       "      <td>flatten</td>\n",
       "      <td>False</td>\n",
       "    </tr>\n",
       "  </tbody>\n",
       "</table>\n",
       "</div>"
      ],
      "text/plain": [
       "                                                                              Layer Type  \\\n",
       "0   <tensorflow.python.keras.engine.input_layer.InputLayer object at 0x000001C7E71D3070>   \n",
       "1   <tensorflow.python.keras.layers.convolutional.Conv2D object at 0x000001CB1F9A3D00>     \n",
       "2   <tensorflow.python.keras.layers.convolutional.Conv2D object at 0x000001CB1F9B58B0>     \n",
       "3   <tensorflow.python.keras.layers.pooling.MaxPooling2D object at 0x000001CB1F9B5580>     \n",
       "4   <tensorflow.python.keras.layers.convolutional.Conv2D object at 0x000001CB1FA8FE20>     \n",
       "5   <tensorflow.python.keras.layers.convolutional.Conv2D object at 0x000001CB1FA97250>     \n",
       "6   <tensorflow.python.keras.layers.pooling.MaxPooling2D object at 0x000001CB1FA8A790>     \n",
       "7   <tensorflow.python.keras.layers.convolutional.Conv2D object at 0x000001CB1FAA3370>     \n",
       "8   <tensorflow.python.keras.layers.convolutional.Conv2D object at 0x000001CB1FAA3AC0>     \n",
       "9   <tensorflow.python.keras.layers.convolutional.Conv2D object at 0x000001CB1FAA1F40>     \n",
       "10  <tensorflow.python.keras.layers.pooling.MaxPooling2D object at 0x000001CB1FAA3FD0>     \n",
       "11  <tensorflow.python.keras.layers.convolutional.Conv2D object at 0x000001CB1FAACC40>     \n",
       "12  <tensorflow.python.keras.layers.convolutional.Conv2D object at 0x000001CB1FAACB20>     \n",
       "13  <tensorflow.python.keras.layers.convolutional.Conv2D object at 0x000001CB1FAA6E50>     \n",
       "14  <tensorflow.python.keras.layers.pooling.MaxPooling2D object at 0x000001CB1FAAACA0>     \n",
       "15  <tensorflow.python.keras.layers.convolutional.Conv2D object at 0x000001CB1FAB92B0>     \n",
       "16  <tensorflow.python.keras.layers.convolutional.Conv2D object at 0x000001CB1FAB9490>     \n",
       "17  <tensorflow.python.keras.layers.convolutional.Conv2D object at 0x000001CB1FABED30>     \n",
       "18  <tensorflow.python.keras.layers.pooling.MaxPooling2D object at 0x000001CB1FAB9430>     \n",
       "19  <tensorflow.python.keras.layers.core.Flatten object at 0x000001CB1FAF8910>             \n",
       "\n",
       "      Layer Name  Layer Trainable  \n",
       "0   input_1       False            \n",
       "1   block1_conv1  False            \n",
       "2   block1_conv2  False            \n",
       "3   block1_pool   False            \n",
       "4   block2_conv1  False            \n",
       "5   block2_conv2  False            \n",
       "6   block2_pool   False            \n",
       "7   block3_conv1  False            \n",
       "8   block3_conv2  False            \n",
       "9   block3_conv3  False            \n",
       "10  block3_pool   False            \n",
       "11  block4_conv1  False            \n",
       "12  block4_conv2  False            \n",
       "13  block4_conv3  False            \n",
       "14  block4_pool   False            \n",
       "15  block5_conv1  False            \n",
       "16  block5_conv2  False            \n",
       "17  block5_conv3  False            \n",
       "18  block5_pool   False            \n",
       "19  flatten       False            "
      ]
     },
     "execution_count": 15,
     "metadata": {},
     "output_type": "execute_result"
    }
   ],
   "source": [
    "pd.set_option('max_colwidth', -1)\n",
    "layers = [(layer, layer.name, layer.trainable) for layer in vgg_model.layers]\n",
    "pd.DataFrame(layers, columns=['Layer Type', 'Layer Name', 'Layer Trainable'])    "
   ]
  },
  {
   "cell_type": "code",
   "execution_count": 16,
   "metadata": {},
   "outputs": [
    {
     "name": "stdout",
     "output_type": "stream",
     "text": [
      "(1, 4, 4, 512)\n"
     ]
    },
    {
     "data": {
      "text/plain": [
       "<matplotlib.image.AxesImage at 0x1cb1ff58280>"
      ]
     },
     "execution_count": 16,
     "metadata": {},
     "output_type": "execute_result"
    },
    {
     "data": {
      "image/png": "[encoded data removed]",
      "text/plain": [
       "<Figure size 432x288 with 2 Axes>"
      ]
     },
     "metadata": {
      "needs_background": "light"
     },
     "output_type": "display_data"
    }
   ],
   "source": [
    "bottleneck_feature_example = vgg.predict(train_imgs_scaled[0:1])\n",
    "print(bottleneck_feature_example.shape)\n",
    "\n",
    "plt.subplot(1, 2, 1)\n",
    "plt.imshow(bottleneck_feature_example[0][:,:,0])\n",
    "plt.subplot(1, 2, 2)\n",
    "plt.imshow(train_imgs_scaled[0][:,:,0])"
   ]
  },
  {
   "cell_type": "code",
   "execution_count": 17,
   "metadata": {},
   "outputs": [
    {
     "name": "stdout",
     "output_type": "stream",
     "text": [
      "447/447 [==============================] - 1971s 4s/step\n",
      "128/128 [==============================] - 481s 4s/step\n",
      "Train Bottleneck Features: (14280, 8192) \tValidation Bottleneck Features: (4080, 8192)\n"
     ]
    }
   ],
   "source": [
    "def get_bottleneck_features(model, input_imgs):\n",
    "    features = model.predict(input_imgs, verbose=1)\n",
    "    return features\n",
    "    \n",
    "train_features_vgg = get_bottleneck_features(vgg_model, train_imgs_scaled)\n",
    "val_features_vgg = get_bottleneck_features(vgg_model, val_imgs_scaled)\n",
    "\n",
    "print('Train Bottleneck Features:', train_features_vgg.shape, \n",
    "      '\\tValidation Bottleneck Features:', val_features_vgg.shape)"
   ]
  },
  {
   "cell_type": "code",
   "execution_count": 18,
   "metadata": {},
   "outputs": [],
   "source": [
    "from keras.layers import Conv2D, MaxPooling2D, Flatten, Dense, Dropout, InputLayer\n",
    "from keras.models import Sequential\n",
    "from keras import optimizers"
   ]
  },
  {
   "cell_type": "code",
   "execution_count": 19,
   "metadata": {},
   "outputs": [
    {
     "data": {
      "text/plain": [
       "8192"
      ]
     },
     "execution_count": 19,
     "metadata": {},
     "output_type": "execute_result"
    }
   ],
   "source": [
    "input_shape = vgg_model.output_shape[1]\n",
    "input_shape"
   ]
  },
  {
   "cell_type": "code",
   "execution_count": 20,
   "metadata": {},
   "outputs": [],
   "source": [
    "model = Sequential()\n",
    "model.add(InputLayer(input_shape=(input_shape,)))\n",
    "model.add(Dense(512, activation='relu', input_dim=input_shape))\n",
    "model.add(Dropout(0.3))\n",
    "model.add(Dense(512, activation='relu'))\n",
    "model.add(Dropout(0.3))\n",
    "model.add(Dense(num_classes, activation='sigmoid'))\n"
   ]
  },
  {
   "cell_type": "code",
   "execution_count": 21,
   "metadata": {},
   "outputs": [],
   "source": [
    "model.compile(loss='sparse_categorical_crossentropy',\n",
    "              optimizer=optimizers.RMSprop(lr=1e-4),\n",
    "              metrics=['accuracy'])"
   ]
  },
  {
   "cell_type": "code",
   "execution_count": 22,
   "metadata": {},
   "outputs": [
    {
     "name": "stdout",
     "output_type": "stream",
     "text": [
      "Model: \"sequential\"\n",
      "_________________________________________________________________\n",
      "Layer (type)                 Output Shape              Param #   \n",
      "=================================================================\n",
      "dense (Dense)                (None, 512)               4194816   \n",
      "_________________________________________________________________\n",
      "dropout (Dropout)            (None, 512)               0         \n",
      "_________________________________________________________________\n",
      "dense_1 (Dense)              (None, 512)               262656    \n",
      "_________________________________________________________________\n",
      "dropout_1 (Dropout)          (None, 512)               0         \n",
      "_________________________________________________________________\n",
      "dense_2 (Dense)              (None, 7)                 3591      \n",
      "=================================================================\n",
      "Total params: 4,461,063\n",
      "Trainable params: 4,461,063\n",
      "Non-trainable params: 0\n",
      "_________________________________________________________________\n"
     ]
    }
   ],
   "source": [
    "model.summary()"
   ]
  },
  {
   "cell_type": "code",
   "execution_count": 23,
   "metadata": {},
   "outputs": [
    {
     "name": "stdout",
     "output_type": "stream",
     "text": [
      "Epoch 1/20\n",
      "595/595 [==============================] - 43s 70ms/step - loss: 1.4263 - accuracy: 0.4713 - val_loss: 2.5642 - val_accuracy: 0.1721\n",
      "Epoch 2/20\n",
      "595/595 [==============================] - 41s 68ms/step - loss: 0.9054 - accuracy: 0.6604 - val_loss: 2.8292 - val_accuracy: 0.1578\n",
      "Epoch 3/20\n",
      "595/595 [==============================] - 39s 66ms/step - loss: 0.7101 - accuracy: 0.7256 - val_loss: 3.4563 - val_accuracy: 0.1282\n",
      "Epoch 4/20\n",
      "595/595 [==============================] - 40s 67ms/step - loss: 0.6008 - accuracy: 0.7622 - val_loss: 3.5359 - val_accuracy: 0.1551\n",
      "Epoch 5/20\n",
      "595/595 [==============================] - 40s 67ms/step - loss: 0.5436 - accuracy: 0.7891 - val_loss: 3.9981 - val_accuracy: 0.1924\n",
      "Epoch 6/20\n",
      "595/595 [==============================] - 41s 69ms/step - loss: 0.4638 - accuracy: 0.8177 - val_loss: 3.7369 - val_accuracy: 0.2047\n",
      "Epoch 7/20\n",
      "595/595 [==============================] - 40s 67ms/step - loss: 0.4282 - accuracy: 0.8371 - val_loss: 5.2149 - val_accuracy: 0.1230\n",
      "Epoch 8/20\n",
      "595/595 [==============================] - 38s 64ms/step - loss: 0.3928 - accuracy: 0.8530 - val_loss: 5.0340 - val_accuracy: 0.1395\n",
      "Epoch 9/20\n",
      "595/595 [==============================] - 40s 67ms/step - loss: 0.3556 - accuracy: 0.8576 - val_loss: 4.4895 - val_accuracy: 0.1885\n",
      "Epoch 10/20\n",
      "595/595 [==============================] - 41s 69ms/step - loss: 0.3420 - accuracy: 0.8695 - val_loss: 5.2996 - val_accuracy: 0.1510\n",
      "Epoch 11/20\n",
      "595/595 [==============================] - 39s 66ms/step - loss: 0.3218 - accuracy: 0.8779 - val_loss: 5.0503 - val_accuracy: 0.1755\n",
      "Epoch 12/20\n",
      "595/595 [==============================] - 37s 63ms/step - loss: 0.3024 - accuracy: 0.8903 - val_loss: 5.8024 - val_accuracy: 0.1292\n",
      "Epoch 13/20\n",
      "595/595 [==============================] - 38s 63ms/step - loss: 0.2792 - accuracy: 0.8954 - val_loss: 5.5724 - val_accuracy: 0.1647\n",
      "Epoch 14/20\n",
      "595/595 [==============================] - 42s 71ms/step - loss: 0.2666 - accuracy: 0.8989 - val_loss: 6.6296 - val_accuracy: 0.1461\n",
      "Epoch 15/20\n",
      "595/595 [==============================] - 38s 64ms/step - loss: 0.2459 - accuracy: 0.9054 - val_loss: 6.0602 - val_accuracy: 0.1895\n",
      "Epoch 16/20\n",
      "595/595 [==============================] - 39s 65ms/step - loss: 0.2480 - accuracy: 0.9067 - val_loss: 6.5538 - val_accuracy: 0.1696\n",
      "Epoch 17/20\n",
      "595/595 [==============================] - 41s 69ms/step - loss: 0.2438 - accuracy: 0.9066 - val_loss: 7.5211 - val_accuracy: 0.1373\n",
      "Epoch 18/20\n",
      "595/595 [==============================] - 42s 71ms/step - loss: 0.2210 - accuracy: 0.9186 - val_loss: 6.9327 - val_accuracy: 0.1669\n",
      "Epoch 19/20\n",
      "595/595 [==============================] - 38s 64ms/step - loss: 0.2169 - accuracy: 0.9246 - val_loss: 8.2704 - val_accuracy: 0.1370\n",
      "Epoch 20/20\n",
      "595/595 [==============================] - 37s 62ms/step - loss: 0.2135 - accuracy: 0.9225 - val_loss: 8.6213 - val_accuracy: 0.1262\n"
     ]
    }
   ],
   "source": [
    "history = model.fit(x=train_features_vgg, y=train_labels_enc,\n",
    "                    validation_data=(val_features_vgg, val_labels_enc),\n",
    "                    batch_size=batch_size,\n",
    "                    epochs=epochs,\n",
    "                    verbose=1)"
   ]
  },
  {
   "cell_type": "code",
   "execution_count": 24,
   "metadata": {},
   "outputs": [],
   "source": [
    "model.save('model_classify_frames.h5')"
   ]
  },
  {
   "cell_type": "code",
   "execution_count": 25,
   "metadata": {},
   "outputs": [
    {
     "data": {
      "image/png": "[encoded data removed]",
      "text/plain": [
       "<Figure size 576x576 with 2 Axes>"
      ]
     },
     "metadata": {
      "needs_background": "light"
     },
     "output_type": "display_data"
    }
   ],
   "source": [
    "#plot results\n",
    "acc = history.history['accuracy']\n",
    "val_acc = history.history['val_accuracy']\n",
    "\n",
    "loss = history.history['loss']\n",
    "val_loss = history.history['val_loss']\n",
    "\n",
    "epochs_range = range(epochs)\n",
    "\n",
    "plt.figure(figsize=(8, 8))\n",
    "plt.subplot(1, 2, 1)\n",
    "plt.plot(epochs_range, acc, label='Training Accuracy')\n",
    "plt.plot(epochs_range, val_acc, label='Validation Accuracy')\n",
    "plt.legend(loc='lower right')\n",
    "plt.title('Training and Validation Accuracy')\n",
    "\n",
    "plt.subplot(1, 2, 2)\n",
    "plt.plot(epochs_range, loss, label='Training Loss')\n",
    "plt.plot(epochs_range, val_loss, label='Validation Loss')\n",
    "plt.legend(loc='upper right')\n",
    "plt.title('Training and Validation Loss')\n",
    "plt.show()"
   ]
  },
  {
   "cell_type": "code",
   "execution_count": 26,
   "metadata": {},
   "outputs": [
    {
     "name": "stdout",
     "output_type": "stream",
     "text": [
      "64/64 [==============================] - 232s 4s/step\n"
     ]
    }
   ],
   "source": [
    "test_bottleneck_features = get_bottleneck_features(vgg_model, test_imgs_scaled)\n"
   ]
  },
  {
   "cell_type": "code",
   "execution_count": 27,
   "metadata": {},
   "outputs": [
    {
     "name": "stdout",
     "output_type": "stream",
     "text": [
      "85/85 [==============================] - 1s 5ms/step - loss: 5.4955 - accuracy: 0.3449\n"
     ]
    }
   ],
   "source": [
    "results = model.evaluate(test_bottleneck_features ,test_labels_enc, batch_size=batch_size)\n"
   ]
  },
  {
   "cell_type": "raw",
   "metadata": {},
   "source": [
    "Credit to this tutorial: https://towardsdatascience.com/a-comprehensive-hands-on-guide-to-transfer-learning-with-real-world-applications-in-deep-learning-212bf3b2f27a"
   ]
  },
  {
   "cell_type": "code",
   "execution_count": null,
   "metadata": {},
   "outputs": [],
   "source": []
  }
 ],
 "metadata": {
  "kernelspec": {
   "display_name": "Python 3",
   "language": "python",
   "name": "python3"
  },
  "language_info": {
   "codemirror_mode": {
    "name": "ipython",
    "version": 3
   },
   "file_extension": ".py",
   "mimetype": "text/x-python",
   "name": "python",
   "nbconvert_exporter": "python",
   "pygments_lexer": "ipython3",
   "version": "3.8.5"
  }
 },
 "nbformat": 4,
 "nbformat_minor": 4
}
