{
 "cells": [
  {
   "cell_type": "raw",
   "metadata": {},
   "source": [
    "Make dataset"
   ]
  },
  {
   "cell_type": "code",
   "execution_count": 1,
   "metadata": {},
   "outputs": [],
   "source": [
    "import numpy as np\n",
    "import os\n",
    "np.random.seed(42)"
   ]
  },
  {
   "cell_type": "code",
   "execution_count": 2,
   "metadata": {},
   "outputs": [
    {
     "name": "stdout",
     "output_type": "stream",
     "text": [
      "(2496,)\n",
      "(2597,)\n",
      "(4553,)\n",
      "(3141,)\n",
      "(2015,)\n",
      "(4820,)\n",
      "2015\n"
     ]
    }
   ],
   "source": [
    "\n",
    "# Create arrays with filenames and lables\n",
    "inFile = open(\"C:/Users/Lukas/Desktop/commaai-speed-challenge/data/train-grouped.txt\", \"r\")\n",
    "\n",
    "all_images = {}\n",
    "all_labels = {}\n",
    "# exclude last group (30mph) beacuse there is so few \n",
    "for i in range(6):\n",
    "    all_images[i] = []\n",
    "for i, v in enumerate(inFile):\n",
    "    if int(v)//5 < 6:\n",
    "        #add the ith image to its group\n",
    "        all_images[int(v)//5].append(str(i)+\".jpg\")\n",
    "        all_labels[str(i)+\".jpg\"] = int(v)//5\n",
    "    \n",
    "min_size = int(1e9)\n",
    "for i in range(6):\n",
    "    min_size = min(len(all_images[i]), min_size)\n",
    "    np_arr = np.array(all_images[i])\n",
    "    all_images[i] = np_arr\n",
    "    print(np_arr.shape)\n",
    "\n",
    "print(min_size)\n"
   ]
  },
  {
   "cell_type": "raw",
   "metadata": {},
   "source": [
    "Smallest group has 2015 images, round to 2000"
   ]
  },
  {
   "cell_type": "code",
   "execution_count": 3,
   "metadata": {},
   "outputs": [
    {
     "name": "stdout",
     "output_type": "stream",
     "text": [
      "0 mph group dataset:  (1400,) (300,) (300,)\n",
      "1 mph group dataset:  (1400,) (300,) (300,)\n",
      "2 mph group dataset:  (1400,) (300,) (300,)\n",
      "3 mph group dataset:  (1400,) (300,) (300,)\n",
      "4 mph group dataset:  (1400,) (300,) (300,)\n",
      "5 mph group dataset:  (1400,) (300,) (300,)\n"
     ]
    }
   ],
   "source": [
    "train_images = {}\n",
    "val_images = {}\n",
    "test_images = {}\n",
    "for i in range(6):\n",
    "    train_images[i] = np.random.choice(all_images[i], size=1400, replace=False)\n",
    "    val_images[i] = np.random.choice(all_images[i], size=300, replace=False)\n",
    "    test_images[i] = np.random.choice(all_images[i], size=300, replace=False)\n",
    "    print(i, \"mph group dataset: \", train_images[i].shape, val_images[i].shape, test_images[i].shape)"
   ]
  },
  {
   "cell_type": "code",
   "execution_count": 4,
   "metadata": {},
   "outputs": [
    {
     "data": {
      "text/plain": [
       "((8400,), (1800,))"
      ]
     },
     "execution_count": 4,
     "metadata": {},
     "output_type": "execute_result"
    }
   ],
   "source": [
    "train_images_all = np.concatenate([train_images[x] for x in train_images])\n",
    "val_images_all = np.concatenate([val_images[x] for x in val_images])\n",
    "test_images_all = np.concatenate([test_images[x] for x in test_images])\n",
    "\n",
    "train_images_all.shape, val_images_all.shape"
   ]
  },
  {
   "cell_type": "code",
   "execution_count": 5,
   "metadata": {},
   "outputs": [],
   "source": [
    "import glob\n",
    "import numpy as np\n",
    "import matplotlib.pyplot as plt\n",
    "from keras.preprocessing.image import ImageDataGenerator, load_img, img_to_array, array_to_img\n",
    "%matplotlib inline"
   ]
  },
  {
   "cell_type": "code",
   "execution_count": 6,
   "metadata": {},
   "outputs": [
    {
     "name": "stdout",
     "output_type": "stream",
     "text": [
      "Train dataset shape: (8400, 150, 150, 3) \tValidation dataset shape: (1800, 150, 150, 3)\n"
     ]
    }
   ],
   "source": [
    "IMG_DIM = (150, 150)\n",
    "\n",
    "train_images_array = [img_to_array(load_img(\"C:/Users/Lukas/Desktop/commaai-speed-challenge/data/frames/\"+img, target_size=IMG_DIM)) for img in train_images_all]\n",
    "train_images_array = np.array(train_images_array)\n",
    "\n",
    "val_images_array = [img_to_array(load_img(\"C:/Users/Lukas/Desktop/commaai-speed-challenge/data/frames/\"+img, target_size=IMG_DIM)) for img in val_images_all]\n",
    "val_images_array = np.array(val_images_array)\n",
    "\n",
    "print('Train dataset shape:', train_images_array.shape, \n",
    "      '\\tValidation dataset shape:', val_images_array.shape)\n"
   ]
  },
  {
   "cell_type": "code",
   "execution_count": 7,
   "metadata": {},
   "outputs": [
    {
     "name": "stdout",
     "output_type": "stream",
     "text": [
      "labels length:  8400 1800\n"
     ]
    }
   ],
   "source": [
    "train_labels = []\n",
    "for fn in train_images_all:\n",
    "    train_labels.append(all_labels[fn])\n",
    "    \n",
    "val_labels = []\n",
    "for fn in val_images_all:\n",
    "    val_labels.append(all_labels[fn])\n",
    "\n",
    "print(\"labels length: \", len(train_labels), len(val_labels))"
   ]
  },
  {
   "cell_type": "code",
   "execution_count": 8,
   "metadata": {},
   "outputs": [
    {
     "data": {
      "text/plain": [
       "array([0, 0, 0, ..., 5, 5, 5], dtype=int64)"
      ]
     },
     "execution_count": 8,
     "metadata": {},
     "output_type": "execute_result"
    }
   ],
   "source": [
    "# encode text category labels\n",
    "from sklearn.preprocessing import LabelEncoder\n",
    "\n",
    "le = LabelEncoder()\n",
    "le.fit(train_labels)\n",
    "train_labels_enc = le.transform(train_labels)\n",
    "validation_labels_enc = le.transform(val_labels)\n",
    "\n",
    "validation_labels_enc"
   ]
  },
  {
   "cell_type": "code",
   "execution_count": 9,
   "metadata": {},
   "outputs": [
    {
     "name": "stdout",
     "output_type": "stream",
     "text": [
      "(150, 150, 3)\n"
     ]
    },
    {
     "data": {
      "image/png": "[encoded data removed]",
      "text/plain": [
       "<PIL.Image.Image image mode=RGB size=150x150 at 0x1F2BC39A070>"
      ]
     },
     "execution_count": 9,
     "metadata": {},
     "output_type": "execute_result"
    }
   ],
   "source": [
    "train_imgs_scaled = train_images_array.astype('float32')\n",
    "validation_imgs_scaled  = val_images_array.astype('float32')\n",
    "train_imgs_scaled /= 255\n",
    "validation_imgs_scaled /= 255\n",
    "\n",
    "print(train_images_array[0].shape)\n",
    "array_to_img(train_images_array[0])"
   ]
  },
  {
   "cell_type": "raw",
   "metadata": {},
   "source": [
    "Build model with transfer learning"
   ]
  },
  {
   "cell_type": "raw",
   "metadata": {},
   "source": [
    "Get VGG16"
   ]
  },
  {
   "cell_type": "code",
   "execution_count": 10,
   "metadata": {},
   "outputs": [],
   "source": [
    "from keras.applications import vgg16\n",
    "from keras.models import Model\n",
    "import keras\n",
    "import pandas as pd"
   ]
  },
  {
   "cell_type": "code",
   "execution_count": 11,
   "metadata": {},
   "outputs": [],
   "source": [
    "#25 devides both 1400 and 300\n",
    "batch_size = 25\n",
    "#remember, we excluded the last class\n",
    "num_classes = 6\n",
    "epochs = 10\n",
    "input_shape = (150, 150, 3)"
   ]
  },
  {
   "cell_type": "code",
   "execution_count": 12,
   "metadata": {},
   "outputs": [],
   "source": [
    "vgg = vgg16.VGG16(include_top=False, weights='imagenet', \n",
    "                                     input_shape=input_shape)"
   ]
  },
  {
   "cell_type": "code",
   "execution_count": 13,
   "metadata": {},
   "outputs": [],
   "source": [
    "output = vgg.layers[-1].output\n",
    "output = keras.layers.Flatten()(output)\n",
    "vgg_model = Model(vgg.input, output)\n"
   ]
  },
  {
   "cell_type": "code",
   "execution_count": 14,
   "metadata": {},
   "outputs": [],
   "source": [
    "vgg_model.trainable = False\n",
    "for layer in vgg_model.layers:\n",
    "    layer.trainable = False"
   ]
  },
  {
   "cell_type": "code",
   "execution_count": 15,
   "metadata": {},
   "outputs": [
    {
     "data": {
      "text/html": [
       "<div>\n",
       "<style scoped>\n",
       "    .dataframe tbody tr th:only-of-type {\n",
       "        vertical-align: middle;\n",
       "    }\n",
       "\n",
       "    .dataframe tbody tr th {\n",
       "        vertical-align: top;\n",
       "    }\n",
       "\n",
       "    .dataframe thead th {\n",
       "        text-align: right;\n",
       "    }\n",
       "</style>\n",
       "<table border=\"1\" class=\"dataframe\">\n",
       "  <thead>\n",
       "    <tr style=\"text-align: right;\">\n",
       "      <th></th>\n",
       "      <th>Layer Type</th>\n",
       "      <th>Layer Name</th>\n",
       "      <th>Layer Trainable</th>\n",
       "    </tr>\n",
       "  </thead>\n",
       "  <tbody>\n",
       "    <tr>\n",
       "      <th>0</th>\n",
       "      <td>&lt;tensorflow.python.keras.engine.input_layer.InputLayer object at 0x000001F2DE265850&gt;</td>\n",
       "      <td>input_1</td>\n",
       "      <td>False</td>\n",
       "    </tr>\n",
       "    <tr>\n",
       "      <th>1</th>\n",
       "      <td>&lt;tensorflow.python.keras.layers.convolutional.Conv2D object at 0x000001F4787326D0&gt;</td>\n",
       "      <td>block1_conv1</td>\n",
       "      <td>False</td>\n",
       "    </tr>\n",
       "    <tr>\n",
       "      <th>2</th>\n",
       "      <td>&lt;tensorflow.python.keras.layers.convolutional.Conv2D object at 0x000001F478732E80&gt;</td>\n",
       "      <td>block1_conv2</td>\n",
       "      <td>False</td>\n",
       "    </tr>\n",
       "    <tr>\n",
       "      <th>3</th>\n",
       "      <td>&lt;tensorflow.python.keras.layers.pooling.MaxPooling2D object at 0x000001F478732B50&gt;</td>\n",
       "      <td>block1_pool</td>\n",
       "      <td>False</td>\n",
       "    </tr>\n",
       "    <tr>\n",
       "      <th>4</th>\n",
       "      <td>&lt;tensorflow.python.keras.layers.convolutional.Conv2D object at 0x000001F47882B280&gt;</td>\n",
       "      <td>block2_conv1</td>\n",
       "      <td>False</td>\n",
       "    </tr>\n",
       "    <tr>\n",
       "      <th>5</th>\n",
       "      <td>&lt;tensorflow.python.keras.layers.convolutional.Conv2D object at 0x000001F4788317F0&gt;</td>\n",
       "      <td>block2_conv2</td>\n",
       "      <td>False</td>\n",
       "    </tr>\n",
       "    <tr>\n",
       "      <th>6</th>\n",
       "      <td>&lt;tensorflow.python.keras.layers.pooling.MaxPooling2D object at 0x000001F478835520&gt;</td>\n",
       "      <td>block2_pool</td>\n",
       "      <td>False</td>\n",
       "    </tr>\n",
       "    <tr>\n",
       "      <th>7</th>\n",
       "      <td>&lt;tensorflow.python.keras.layers.convolutional.Conv2D object at 0x000001F4788318E0&gt;</td>\n",
       "      <td>block3_conv1</td>\n",
       "      <td>False</td>\n",
       "    </tr>\n",
       "    <tr>\n",
       "      <th>8</th>\n",
       "      <td>&lt;tensorflow.python.keras.layers.convolutional.Conv2D object at 0x000001F478843910&gt;</td>\n",
       "      <td>block3_conv2</td>\n",
       "      <td>False</td>\n",
       "    </tr>\n",
       "    <tr>\n",
       "      <th>9</th>\n",
       "      <td>&lt;tensorflow.python.keras.layers.convolutional.Conv2D object at 0x000001F478846970&gt;</td>\n",
       "      <td>block3_conv3</td>\n",
       "      <td>False</td>\n",
       "    </tr>\n",
       "    <tr>\n",
       "      <th>10</th>\n",
       "      <td>&lt;tensorflow.python.keras.layers.pooling.MaxPooling2D object at 0x000001F47881A370&gt;</td>\n",
       "      <td>block3_pool</td>\n",
       "      <td>False</td>\n",
       "    </tr>\n",
       "    <tr>\n",
       "      <th>11</th>\n",
       "      <td>&lt;tensorflow.python.keras.layers.convolutional.Conv2D object at 0x000001F478821190&gt;</td>\n",
       "      <td>block4_conv1</td>\n",
       "      <td>False</td>\n",
       "    </tr>\n",
       "    <tr>\n",
       "      <th>12</th>\n",
       "      <td>&lt;tensorflow.python.keras.layers.convolutional.Conv2D object at 0x000001F4788496A0&gt;</td>\n",
       "      <td>block4_conv2</td>\n",
       "      <td>False</td>\n",
       "    </tr>\n",
       "    <tr>\n",
       "      <th>13</th>\n",
       "      <td>&lt;tensorflow.python.keras.layers.convolutional.Conv2D object at 0x000001F478821130&gt;</td>\n",
       "      <td>block4_conv3</td>\n",
       "      <td>False</td>\n",
       "    </tr>\n",
       "    <tr>\n",
       "      <th>14</th>\n",
       "      <td>&lt;tensorflow.python.keras.layers.pooling.MaxPooling2D object at 0x000001F47884D760&gt;</td>\n",
       "      <td>block4_pool</td>\n",
       "      <td>False</td>\n",
       "    </tr>\n",
       "    <tr>\n",
       "      <th>15</th>\n",
       "      <td>&lt;tensorflow.python.keras.layers.convolutional.Conv2D object at 0x000001F478984610&gt;</td>\n",
       "      <td>block5_conv1</td>\n",
       "      <td>False</td>\n",
       "    </tr>\n",
       "    <tr>\n",
       "      <th>16</th>\n",
       "      <td>&lt;tensorflow.python.keras.layers.convolutional.Conv2D object at 0x000001F47898D8E0&gt;</td>\n",
       "      <td>block5_conv2</td>\n",
       "      <td>False</td>\n",
       "    </tr>\n",
       "    <tr>\n",
       "      <th>17</th>\n",
       "      <td>&lt;tensorflow.python.keras.layers.convolutional.Conv2D object at 0x000001F478989F40&gt;</td>\n",
       "      <td>block5_conv3</td>\n",
       "      <td>False</td>\n",
       "    </tr>\n",
       "    <tr>\n",
       "      <th>18</th>\n",
       "      <td>&lt;tensorflow.python.keras.layers.pooling.MaxPooling2D object at 0x000001F47898FC10&gt;</td>\n",
       "      <td>block5_pool</td>\n",
       "      <td>False</td>\n",
       "    </tr>\n",
       "    <tr>\n",
       "      <th>19</th>\n",
       "      <td>&lt;tensorflow.python.keras.layers.core.Flatten object at 0x000001F47899D460&gt;</td>\n",
       "      <td>flatten</td>\n",
       "      <td>False</td>\n",
       "    </tr>\n",
       "  </tbody>\n",
       "</table>\n",
       "</div>"
      ],
      "text/plain": [
       "                                                                              Layer Type  \\\n",
       "0   <tensorflow.python.keras.engine.input_layer.InputLayer object at 0x000001F2DE265850>   \n",
       "1     <tensorflow.python.keras.layers.convolutional.Conv2D object at 0x000001F4787326D0>   \n",
       "2     <tensorflow.python.keras.layers.convolutional.Conv2D object at 0x000001F478732E80>   \n",
       "3     <tensorflow.python.keras.layers.pooling.MaxPooling2D object at 0x000001F478732B50>   \n",
       "4     <tensorflow.python.keras.layers.convolutional.Conv2D object at 0x000001F47882B280>   \n",
       "5     <tensorflow.python.keras.layers.convolutional.Conv2D object at 0x000001F4788317F0>   \n",
       "6     <tensorflow.python.keras.layers.pooling.MaxPooling2D object at 0x000001F478835520>   \n",
       "7     <tensorflow.python.keras.layers.convolutional.Conv2D object at 0x000001F4788318E0>   \n",
       "8     <tensorflow.python.keras.layers.convolutional.Conv2D object at 0x000001F478843910>   \n",
       "9     <tensorflow.python.keras.layers.convolutional.Conv2D object at 0x000001F478846970>   \n",
       "10    <tensorflow.python.keras.layers.pooling.MaxPooling2D object at 0x000001F47881A370>   \n",
       "11    <tensorflow.python.keras.layers.convolutional.Conv2D object at 0x000001F478821190>   \n",
       "12    <tensorflow.python.keras.layers.convolutional.Conv2D object at 0x000001F4788496A0>   \n",
       "13    <tensorflow.python.keras.layers.convolutional.Conv2D object at 0x000001F478821130>   \n",
       "14    <tensorflow.python.keras.layers.pooling.MaxPooling2D object at 0x000001F47884D760>   \n",
       "15    <tensorflow.python.keras.layers.convolutional.Conv2D object at 0x000001F478984610>   \n",
       "16    <tensorflow.python.keras.layers.convolutional.Conv2D object at 0x000001F47898D8E0>   \n",
       "17    <tensorflow.python.keras.layers.convolutional.Conv2D object at 0x000001F478989F40>   \n",
       "18    <tensorflow.python.keras.layers.pooling.MaxPooling2D object at 0x000001F47898FC10>   \n",
       "19            <tensorflow.python.keras.layers.core.Flatten object at 0x000001F47899D460>   \n",
       "\n",
       "      Layer Name  Layer Trainable  \n",
       "0        input_1            False  \n",
       "1   block1_conv1            False  \n",
       "2   block1_conv2            False  \n",
       "3    block1_pool            False  \n",
       "4   block2_conv1            False  \n",
       "5   block2_conv2            False  \n",
       "6    block2_pool            False  \n",
       "7   block3_conv1            False  \n",
       "8   block3_conv2            False  \n",
       "9   block3_conv3            False  \n",
       "10   block3_pool            False  \n",
       "11  block4_conv1            False  \n",
       "12  block4_conv2            False  \n",
       "13  block4_conv3            False  \n",
       "14   block4_pool            False  \n",
       "15  block5_conv1            False  \n",
       "16  block5_conv2            False  \n",
       "17  block5_conv3            False  \n",
       "18   block5_pool            False  \n",
       "19       flatten            False  "
      ]
     },
     "execution_count": 15,
     "metadata": {},
     "output_type": "execute_result"
    }
   ],
   "source": [
    "pd.set_option('max_colwidth', None)\n",
    "layers = [(layer, layer.name, layer.trainable) for layer in vgg_model.layers]\n",
    "pd.DataFrame(layers, columns=['Layer Type', 'Layer Name', 'Layer Trainable'])    "
   ]
  },
  {
   "cell_type": "code",
   "execution_count": 16,
   "metadata": {},
   "outputs": [
    {
     "name": "stdout",
     "output_type": "stream",
     "text": [
      "(1, 4, 4, 512)\n"
     ]
    },
    {
     "data": {
      "text/plain": [
       "<matplotlib.image.AxesImage at 0x1f478f7ef40>"
      ]
     },
     "execution_count": 16,
     "metadata": {},
     "output_type": "execute_result"
    },
    {
     "data": {
      "image/png": "[encoded data removed]",
      "text/plain": [
       "<Figure size 432x288 with 1 Axes>"
      ]
     },
     "metadata": {
      "needs_background": "light"
     },
     "output_type": "display_data"
    }
   ],
   "source": [
    "bottleneck_feature_example = vgg.predict(train_imgs_scaled[0:1])\n",
    "print(bottleneck_feature_example.shape)\n",
    "plt.imshow(bottleneck_feature_example[0][:,:,0])"
   ]
  },
  {
   "cell_type": "code",
   "execution_count": 17,
   "metadata": {},
   "outputs": [
    {
     "name": "stdout",
     "output_type": "stream",
     "text": [
      "263/263 [==============================] - 1452s 6s/step\n",
      "57/57 [==============================] - 309s 5s/step\n",
      "Train Bottleneck Features: (8400, 8192) \tValidation Bottleneck Features: (1800, 8192)\n"
     ]
    }
   ],
   "source": [
    "def get_bottleneck_features(model, input_imgs):\n",
    "    features = model.predict(input_imgs, verbose=1)\n",
    "    return features\n",
    "    \n",
    "train_features_vgg = get_bottleneck_features(vgg_model, train_imgs_scaled)\n",
    "validation_features_vgg = get_bottleneck_features(vgg_model, validation_imgs_scaled)\n",
    "\n",
    "print('Train Bottleneck Features:', train_features_vgg.shape, \n",
    "      '\\tValidation Bottleneck Features:', validation_features_vgg.shape)"
   ]
  },
  {
   "cell_type": "code",
   "execution_count": 18,
   "metadata": {},
   "outputs": [],
   "source": [
    "from keras.layers import Conv2D, MaxPooling2D, Flatten, Dense, Dropout, InputLayer\n",
    "from keras.models import Sequential\n",
    "from keras import optimizers"
   ]
  },
  {
   "cell_type": "code",
   "execution_count": 19,
   "metadata": {},
   "outputs": [
    {
     "data": {
      "text/plain": [
       "8192"
      ]
     },
     "execution_count": 19,
     "metadata": {},
     "output_type": "execute_result"
    }
   ],
   "source": [
    "input_shape = vgg_model.output_shape[1]\n",
    "input_shape"
   ]
  },
  {
   "cell_type": "code",
   "execution_count": 25,
   "metadata": {},
   "outputs": [],
   "source": [
    "model = Sequential()\n",
    "model.add(InputLayer(input_shape=(input_shape,)))\n",
    "model.add(Dense(512, activation='relu', input_dim=input_shape))\n",
    "model.add(Dropout(0.3))\n",
    "model.add(Dense(512, activation='relu'))\n",
    "model.add(Dropout(0.3))\n",
    "model.add(Dense(num_classes, activation='sigmoid'))\n"
   ]
  },
  {
   "cell_type": "code",
   "execution_count": 27,
   "metadata": {},
   "outputs": [],
   "source": [
    "model.compile(loss='sparse_categorical_crossentropy',\n",
    "              optimizer=optimizers.RMSprop(lr=1e-4),\n",
    "              metrics=['accuracy'])"
   ]
  },
  {
   "cell_type": "code",
   "execution_count": 28,
   "metadata": {},
   "outputs": [
    {
     "name": "stdout",
     "output_type": "stream",
     "text": [
      "Model: \"sequential_1\"\n",
      "_________________________________________________________________\n",
      "Layer (type)                 Output Shape              Param #   \n",
      "=================================================================\n",
      "dense_3 (Dense)              (None, 512)               4194816   \n",
      "_________________________________________________________________\n",
      "dropout_2 (Dropout)          (None, 512)               0         \n",
      "_________________________________________________________________\n",
      "dense_4 (Dense)              (None, 512)               262656    \n",
      "_________________________________________________________________\n",
      "dropout_3 (Dropout)          (None, 512)               0         \n",
      "_________________________________________________________________\n",
      "dense_5 (Dense)              (None, 6)                 3078      \n",
      "=================================================================\n",
      "Total params: 4,460,550\n",
      "Trainable params: 4,460,550\n",
      "Non-trainable params: 0\n",
      "_________________________________________________________________\n"
     ]
    }
   ],
   "source": [
    "model.summary()"
   ]
  },
  {
   "cell_type": "code",
   "execution_count": 30,
   "metadata": {},
   "outputs": [
    {
     "name": "stdout",
     "output_type": "stream",
     "text": [
      "Epoch 1/10\n",
      "336/336 [==============================] - 29s 82ms/step - loss: 1.2150 - accuracy: 0.5089 - val_loss: 0.4603 - val_accuracy: 0.8611\n",
      "Epoch 2/10\n",
      "336/336 [==============================] - 27s 81ms/step - loss: 0.5101 - accuracy: 0.8069 - val_loss: 0.3405 - val_accuracy: 0.8539\n",
      "Epoch 3/10\n",
      "336/336 [==============================] - 27s 80ms/step - loss: 0.3203 - accuracy: 0.8807 - val_loss: 0.2135 - val_accuracy: 0.9189\n",
      "Epoch 4/10\n",
      "336/336 [==============================] - 27s 81ms/step - loss: 0.2126 - accuracy: 0.9214 - val_loss: 0.1633 - val_accuracy: 0.9422\n",
      "Epoch 5/10\n",
      "336/336 [==============================] - 27s 79ms/step - loss: 0.1728 - accuracy: 0.9330 - val_loss: 0.1164 - val_accuracy: 0.9533\n",
      "Epoch 6/10\n",
      "336/336 [==============================] - 27s 80ms/step - loss: 0.1314 - accuracy: 0.9512 - val_loss: 0.1148 - val_accuracy: 0.9600\n",
      "Epoch 7/10\n",
      "336/336 [==============================] - 27s 81ms/step - loss: 0.1125 - accuracy: 0.9580 - val_loss: 0.0896 - val_accuracy: 0.9650\n",
      "Epoch 8/10\n",
      "336/336 [==============================] - 27s 81ms/step - loss: 0.1037 - accuracy: 0.9588 - val_loss: 0.0848 - val_accuracy: 0.9672\n",
      "Epoch 9/10\n",
      "336/336 [==============================] - 27s 79ms/step - loss: 0.0978 - accuracy: 0.9634 - val_loss: 0.0718 - val_accuracy: 0.9756\n",
      "Epoch 10/10\n",
      "336/336 [==============================] - 27s 80ms/step - loss: 0.0937 - accuracy: 0.9620 - val_loss: 0.0689 - val_accuracy: 0.9728\n"
     ]
    }
   ],
   "source": [
    "history = model.fit(x=train_features_vgg, y=train_labels_enc,\n",
    "                    validation_data=(validation_features_vgg, validation_labels_enc),\n",
    "                    batch_size=batch_size,\n",
    "                    epochs=epochs,\n",
    "                    verbose=1)"
   ]
  },
  {
   "cell_type": "code",
   "execution_count": 31,
   "metadata": {},
   "outputs": [],
   "source": [
    "model.save('model_classify_frames_v2.h5')"
   ]
  },
  {
   "cell_type": "code",
   "execution_count": 34,
   "metadata": {},
   "outputs": [
    {
     "data": {
      "image/png": "[encoded data removed]",
      "text/plain": [
       "<Figure size 576x576 with 2 Axes>"
      ]
     },
     "metadata": {
      "needs_background": "light"
     },
     "output_type": "display_data"
    }
   ],
   "source": [
    "#plot results\n",
    "acc = history.history['accuracy']\n",
    "val_acc = history.history['val_accuracy']\n",
    "\n",
    "loss = history.history['loss']\n",
    "val_loss = history.history['val_loss']\n",
    "\n",
    "epochs_range = range(epochs)\n",
    "\n",
    "plt.figure(figsize=(8, 8))\n",
    "plt.subplot(1, 2, 1)\n",
    "plt.plot(epochs_range, acc, label='Training Accuracy')\n",
    "plt.plot(epochs_range, val_acc, label='Validation Accuracy')\n",
    "plt.legend(loc='lower right')\n",
    "plt.title('Training and Validation Accuracy')\n",
    "\n",
    "plt.subplot(1, 2, 2)\n",
    "plt.plot(epochs_range, loss, label='Training Loss')\n",
    "plt.plot(epochs_range, val_loss, label='Validation Loss')\n",
    "plt.legend(loc='upper right')\n",
    "plt.title('Training and Validation Loss')\n",
    "plt.show()"
   ]
  },
  {
   "cell_type": "code",
   "execution_count": 35,
   "metadata": {},
   "outputs": [
    {
     "name": "stdout",
     "output_type": "stream",
     "text": [
      "(150, 150, 3)\n"
     ]
    },
    {
     "data": {
      "image/png": "[encoded data removed]",
      "text/plain": [
       "<PIL.Image.Image image mode=RGB size=150x150 at 0x1F2D46A8A00>"
      ]
     },
     "execution_count": 35,
     "metadata": {},
     "output_type": "execute_result"
    }
   ],
   "source": [
    "test_images_array = [img_to_array(load_img(\"C:/Users/Lukas/Desktop/commaai-speed-challenge/data/frames/\"+img, target_size=IMG_DIM)) for img in test_images_all]\n",
    "test_images_array = np.array(test_images_array)\n",
    "\n",
    "test_imgs_scaled = test_images_array.astype('float32')\n",
    "test_imgs_scaled /= 255\n",
    "\n",
    "print(test_images_array[0].shape)\n",
    "array_to_img(test_images_array[0])"
   ]
  },
  {
   "cell_type": "code",
   "execution_count": 41,
   "metadata": {},
   "outputs": [
    {
     "ename": "ModuleNotFoundError",
     "evalue": "No module named 'model_evaluation_utils'",
     "output_type": "error",
     "traceback": [
      "\u001b[1;31m---------------------------------------------------------------------------\u001b[0m",
      "\u001b[1;31mModuleNotFoundError\u001b[0m                       Traceback (most recent call last)",
      "\u001b[1;32m<ipython-input-41-f4e6491be5da>\u001b[0m in \u001b[0;36m<module>\u001b[1;34m\u001b[0m\n\u001b[1;32m----> 1\u001b[1;33m \u001b[1;32mimport\u001b[0m \u001b[0mmodel_evaluation_utils\u001b[0m \u001b[1;32mas\u001b[0m \u001b[0mmeu\u001b[0m\u001b[1;33m\u001b[0m\u001b[1;33m\u001b[0m\u001b[0m\n\u001b[0m",
      "\u001b[1;31mModuleNotFoundError\u001b[0m: No module named 'model_evaluation_utils'"
     ]
    }
   ],
   "source": [
    "import model_evaluation_utils as meu"
   ]
  },
  {
   "cell_type": "code",
   "execution_count": 36,
   "metadata": {},
   "outputs": [
    {
     "name": "stdout",
     "output_type": "stream",
     "text": [
      "57/57 [==============================] - 312s 5s/step\n"
     ]
    },
    {
     "ename": "NameError",
     "evalue": "name 'tl_cnn' is not defined",
     "output_type": "error",
     "traceback": [
      "\u001b[1;31m---------------------------------------------------------------------------\u001b[0m",
      "\u001b[1;31mNameError\u001b[0m                                 Traceback (most recent call last)",
      "\u001b[1;32m<ipython-input-36-e5537578d5c2>\u001b[0m in \u001b[0;36m<module>\u001b[1;34m\u001b[0m\n\u001b[0;32m      1\u001b[0m \u001b[0mtest_bottleneck_features\u001b[0m \u001b[1;33m=\u001b[0m \u001b[0mget_bottleneck_features\u001b[0m\u001b[1;33m(\u001b[0m\u001b[0mvgg_model\u001b[0m\u001b[1;33m,\u001b[0m \u001b[0mtest_imgs_scaled\u001b[0m\u001b[1;33m)\u001b[0m\u001b[1;33m\u001b[0m\u001b[1;33m\u001b[0m\u001b[0m\n\u001b[0;32m      2\u001b[0m \u001b[1;33m\u001b[0m\u001b[0m\n\u001b[1;32m----> 3\u001b[1;33m \u001b[0mpredictions\u001b[0m \u001b[1;33m=\u001b[0m \u001b[0mtl_cnn\u001b[0m\u001b[1;33m.\u001b[0m\u001b[0mpredict_classes\u001b[0m\u001b[1;33m(\u001b[0m\u001b[0mtest_bottleneck_features\u001b[0m\u001b[1;33m,\u001b[0m \u001b[0mverbose\u001b[0m\u001b[1;33m=\u001b[0m\u001b[1;36m0\u001b[0m\u001b[1;33m)\u001b[0m\u001b[1;33m\u001b[0m\u001b[1;33m\u001b[0m\u001b[0m\n\u001b[0m\u001b[0;32m      4\u001b[0m \u001b[0mpredictions\u001b[0m \u001b[1;33m=\u001b[0m \u001b[0mnum2class_label_transformer\u001b[0m\u001b[1;33m(\u001b[0m\u001b[0mpredictions\u001b[0m\u001b[1;33m)\u001b[0m\u001b[1;33m\u001b[0m\u001b[1;33m\u001b[0m\u001b[0m\n\u001b[0;32m      5\u001b[0m meu.display_model_performance_metrics(true_labels=test_labels, predicted_labels=predictions, \n",
      "\u001b[1;31mNameError\u001b[0m: name 'tl_cnn' is not defined"
     ]
    }
   ],
   "source": [
    "test_bottleneck_features = get_bottleneck_features(vgg_model, test_imgs_scaled)\n"
   ]
  },
  {
   "cell_type": "code",
   "execution_count": 42,
   "metadata": {},
   "outputs": [
    {
     "name": "stdout",
     "output_type": "stream",
     "text": [
      "57/57 [==============================] - 1s 9ms/step\n"
     ]
    }
   ],
   "source": [
    "predicted_ids = model.predict_classes(test_bottleneck_features, verbose=1)\n",
    "predicted_class_names = [i * 5 for i in predictions]\n"
   ]
  },
  {
   "cell_type": "code",
   "execution_count": 45,
   "metadata": {},
   "outputs": [
    {
     "name": "stdout",
     "output_type": "stream",
     "text": [
      "labels length:  0\n"
     ]
    }
   ],
   "source": [
    "test_labels = []\n",
    "for fn in test_images_all:\n",
    "    test_labels.append(all_labels[fn])\n",
    "\n",
    "print(\"labels length: \", len(test_labels))"
   ]
  },
  {
   "cell_type": "code",
   "execution_count": 44,
   "metadata": {},
   "outputs": [
    {
     "name": "stderr",
     "output_type": "stream",
     "text": [
      "Clipping input data to the valid range for imshow with RGB data ([0..1] for floats or [0..255] for integers).\n"
     ]
    },
    {
     "ename": "NameError",
     "evalue": "name 'label_batch' is not defined",
     "output_type": "error",
     "traceback": [
      "\u001b[1;31m---------------------------------------------------------------------------\u001b[0m",
      "\u001b[1;31mNameError\u001b[0m                                 Traceback (most recent call last)",
      "\u001b[1;32m<ipython-input-44-5f4f51b67b3f>\u001b[0m in \u001b[0;36m<module>\u001b[1;34m\u001b[0m\n\u001b[0;32m      4\u001b[0m     \u001b[0mplt\u001b[0m\u001b[1;33m.\u001b[0m\u001b[0msubplots_adjust\u001b[0m\u001b[1;33m(\u001b[0m\u001b[0mhspace\u001b[0m \u001b[1;33m=\u001b[0m \u001b[1;36m0.3\u001b[0m\u001b[1;33m)\u001b[0m\u001b[1;33m\u001b[0m\u001b[1;33m\u001b[0m\u001b[0m\n\u001b[0;32m      5\u001b[0m     \u001b[0mplt\u001b[0m\u001b[1;33m.\u001b[0m\u001b[0mimshow\u001b[0m\u001b[1;33m(\u001b[0m\u001b[0mtest_images_array\u001b[0m\u001b[1;33m[\u001b[0m\u001b[0mn\u001b[0m\u001b[1;33m]\u001b[0m\u001b[1;33m)\u001b[0m\u001b[1;33m\u001b[0m\u001b[1;33m\u001b[0m\u001b[0m\n\u001b[1;32m----> 6\u001b[1;33m     \u001b[0mcolor\u001b[0m \u001b[1;33m=\u001b[0m \u001b[1;34m\"blue\"\u001b[0m \u001b[1;32mif\u001b[0m \u001b[0mpredicted_ids\u001b[0m\u001b[1;33m[\u001b[0m\u001b[0mn\u001b[0m\u001b[1;33m]\u001b[0m \u001b[1;33m==\u001b[0m \u001b[0mlabel_batch\u001b[0m\u001b[1;33m[\u001b[0m\u001b[0mn\u001b[0m\u001b[1;33m]\u001b[0m \u001b[1;32melse\u001b[0m \u001b[1;34m\"red\"\u001b[0m\u001b[1;33m\u001b[0m\u001b[1;33m\u001b[0m\u001b[0m\n\u001b[0m\u001b[0;32m      7\u001b[0m     \u001b[0mplt\u001b[0m\u001b[1;33m.\u001b[0m\u001b[0mtitle\u001b[0m\u001b[1;33m(\u001b[0m\u001b[0mpredicted_class_names\u001b[0m\u001b[1;33m[\u001b[0m\u001b[0mn\u001b[0m\u001b[1;33m]\u001b[0m\u001b[1;33m,\u001b[0m \u001b[0mcolor\u001b[0m\u001b[1;33m=\u001b[0m\u001b[0mcolor\u001b[0m\u001b[1;33m)\u001b[0m\u001b[1;33m\u001b[0m\u001b[1;33m\u001b[0m\u001b[0m\n\u001b[0;32m      8\u001b[0m     \u001b[0mplt\u001b[0m\u001b[1;33m.\u001b[0m\u001b[0maxis\u001b[0m\u001b[1;33m(\u001b[0m\u001b[1;34m'off'\u001b[0m\u001b[1;33m)\u001b[0m\u001b[1;33m\u001b[0m\u001b[1;33m\u001b[0m\u001b[0m\n",
      "\u001b[1;31mNameError\u001b[0m: name 'label_batch' is not defined"
     ]
    },
    {
     "data": {
      "image/png": "[encoded data removed]",
      "text/plain": [
       "<Figure size 720x648 with 1 Axes>"
      ]
     },
     "metadata": {
      "needs_background": "light"
     },
     "output_type": "display_data"
    }
   ],
   "source": [
    "plt.figure(figsize=(10,9))\n",
    "for n in range(30):\n",
    "    plt.subplot(6,5,n+1)\n",
    "    plt.subplots_adjust(hspace = 0.3)\n",
    "    plt.imshow(test_images_array[n])\n",
    "    color = \"blue\" if predicted_ids[n] == test_labels[n] else \"red\"\n",
    "    plt.title(predicted_class_names[n], color=color)\n",
    "    plt.axis('off')\n",
    "    _ = plt.suptitle(\"Model predictions (blue: correct, red: incorrect)\")"
   ]
  },
  {
   "cell_type": "code",
   "execution_count": null,
   "metadata": {},
   "outputs": [],
   "source": []
  }
 ],
 "metadata": {
  "kernelspec": {
   "display_name": "Python 3",
   "language": "python",
   "name": "python3"
  },
  "language_info": {
   "codemirror_mode": {
    "name": "ipython",
    "version": 3
   },
   "file_extension": ".py",
   "mimetype": "text/x-python",
   "name": "python",
   "nbconvert_exporter": "python",
   "pygments_lexer": "ipython3",
   "version": "3.8.5"
  }
 },
 "nbformat": 4,
 "nbformat_minor": 4
}
