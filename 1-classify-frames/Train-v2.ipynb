{
 "cells": [
  {
   "cell_type": "raw",
   "metadata": {},
   "source": [
    "Make dataset"
   ]
  },
  {
   "cell_type": "code",
   "execution_count": 12,
   "metadata": {},
   "outputs": [],
   "source": [
    "import numpy as np\n",
    "import os\n",
    "np.random.seed(42)"
   ]
  },
  {
   "cell_type": "code",
   "execution_count": 13,
   "metadata": {},
   "outputs": [
    {
     "name": "stdout",
     "output_type": "stream",
     "text": [
      "(2496,)\n",
      "(2597,)\n",
      "(4553,)\n",
      "(3141,)\n",
      "(2015,)\n",
      "(4820,)\n",
      "2015\n"
     ]
    }
   ],
   "source": [
    "\n",
    "# Create arrays with filenames and lables\n",
    "inFile = open(\"C:/Users/Lukas/Desktop/commaai-speed-challenge/data/train-grouped.txt\", \"r\")\n",
    "\n",
    "all_images = {}\n",
    "all_labels = {}\n",
    "# exclude last group (30mph) beacuse there is so few \n",
    "for i in range(6):\n",
    "    all_images[i] = []\n",
    "for i, v in enumerate(inFile):\n",
    "    if int(v)//5 < 6:\n",
    "        #add the ith image to its group\n",
    "        all_images[int(v)//5].append(str(i)+\".jpg\")\n",
    "        all_labels[str(i)+\".jpg\"] = int(v)//5\n",
    "    \n",
    "min_size = int(1e9)\n",
    "for i in range(6):\n",
    "    min_size = min(len(all_images[i]), min_size)\n",
    "    np_arr = np.array(all_images[i])\n",
    "    all_images[i] = np_arr\n",
    "    print(np_arr.shape)\n",
    "\n",
    "print(min_size)\n"
   ]
  },
  {
   "cell_type": "raw",
   "metadata": {},
   "source": [
    "Smallest group has 2015 images, round to 2000"
   ]
  },
  {
   "cell_type": "code",
   "execution_count": 14,
   "metadata": {},
   "outputs": [
    {
     "name": "stdout",
     "output_type": "stream",
     "text": [
      "['9316.jpg' '9317.jpg' '9318.jpg' ... '19691.jpg' '19692.jpg' '19693.jpg']\n",
      "['18880.jpg' '17981.jpg' '15632.jpg' ... '15911.jpg' '16493.jpg'\n",
      " '15590.jpg']\n",
      "0 mph group dataset:  (1400,) (300,) (300,)\n",
      "['9285.jpg' '9286.jpg' '9287.jpg' ... '20397.jpg' '20398.jpg' '20399.jpg']\n",
      "['14737.jpg' '16048.jpg' '16033.jpg' ... '18125.jpg' '19789.jpg'\n",
      " '19326.jpg']\n",
      "1 mph group dataset:  (1400,) (300,) (300,)\n",
      "['8848.jpg' '8849.jpg' '8850.jpg' ... '20308.jpg' '20309.jpg' '20310.jpg']\n",
      "['14309.jpg' '10395.jpg' '19896.jpg' ... '9679.jpg' '8962.jpg' '11800.jpg']\n",
      "2 mph group dataset:  (1400,) (300,) (300,)\n",
      "['1266.jpg' '1272.jpg' '1273.jpg' ... '20039.jpg' '20040.jpg' '20041.jpg']\n",
      "['18402.jpg' '6055.jpg' '17705.jpg' ... '8522.jpg' '17533.jpg' '8600.jpg']\n",
      "3 mph group dataset:  (1400,) (300,) (300,)\n",
      "['292.jpg' '293.jpg' '294.jpg' ... '8510.jpg' '8511.jpg' '8512.jpg']\n",
      "['976.jpg' '1022.jpg' '1143.jpg' ... '990.jpg' '5803.jpg' '1087.jpg']\n",
      "4 mph group dataset:  (1400,) (300,) (300,)\n",
      "['178.jpg' '179.jpg' '180.jpg' ... '8448.jpg' '8449.jpg' '8450.jpg']\n",
      "['2281.jpg' '7916.jpg' '5276.jpg' ... '4691.jpg' '7844.jpg' '3710.jpg']\n",
      "5 mph group dataset:  (1400,) (300,) (300,)\n"
     ]
    }
   ],
   "source": [
    "train_images = {}\n",
    "val_images = {}\n",
    "test_images = {}\n",
    "for i in range(6):\n",
    "    np.random.shuffle(all_images[i])\n",
    "    train_images[i] = all_images[i][:1400]\n",
    "    val_images[i] = all_images[i][1400:1700]\n",
    "    test_images[i] = all_images[i][1700:2000]\n",
    "    print(i, \"mph group dataset: \", train_images[i].shape, val_images[i].shape, test_images[i].shape)"
   ]
  },
  {
   "cell_type": "code",
   "execution_count": 10,
   "metadata": {},
   "outputs": [
    {
     "data": {
      "text/plain": [
       "((8400,), (1800,))"
      ]
     },
     "execution_count": 10,
     "metadata": {},
     "output_type": "execute_result"
    }
   ],
   "source": [
    "train_images_all = np.concatenate([train_images[x] for x in train_images])\n",
    "val_images_all = np.concatenate([val_images[x] for x in val_images])\n",
    "test_images_all = np.concatenate([test_images[x] for x in test_images])\n",
    "\n",
    "train_images_all.shape, val_images_all.shape"
   ]
  },
  {
   "cell_type": "code",
   "execution_count": 11,
   "metadata": {},
   "outputs": [
    {
     "name": "stdout",
     "output_type": "stream",
     "text": [
      "12000\n",
      "12000\n",
      "Dataset is good\n"
     ]
    }
   ],
   "source": [
    "s = np.concatenate([train_images_all] + [val_images_all] + [test_images_all])\n",
    "print(len(s))\n",
    "s = set(s)\n",
    "print(len(s))\n",
    "if len(train_images_all)+len(val_images_all)+len(test_images_all) != len(s):\n",
    "    print(\"Datasets has crossover\")\n",
    "else:\n",
    "    print(\"Dataset is good\")"
   ]
  },
  {
   "cell_type": "code",
   "execution_count": null,
   "metadata": {},
   "outputs": [],
   "source": [
    "import glob\n",
    "import numpy as np\n",
    "import matplotlib.pyplot as plt\n",
    "from keras.preprocessing.image import ImageDataGenerator, load_img, img_to_array, array_to_img\n",
    "%matplotlib inline"
   ]
  },
  {
   "cell_type": "code",
   "execution_count": null,
   "metadata": {},
   "outputs": [],
   "source": [
    "IMG_DIM = (150, 150)\n",
    "\n",
    "train_images_array = [img_to_array(load_img(\"C:/Users/Lukas/Desktop/commaai-speed-challenge/data/frames/\"+img, target_size=IMG_DIM)) for img in train_images_all]\n",
    "train_images_array = np.array(train_images_array)\n",
    "\n",
    "val_images_array = [img_to_array(load_img(\"C:/Users/Lukas/Desktop/commaai-speed-challenge/data/frames/\"+img, target_size=IMG_DIM)) for img in val_images_all]\n",
    "val_images_array = np.array(val_images_array)\n",
    "\n",
    "print('Train dataset shape:', train_images_array.shape, \n",
    "      '\\tValidation dataset shape:', val_images_array.shape)\n"
   ]
  },
  {
   "cell_type": "code",
   "execution_count": null,
   "metadata": {},
   "outputs": [],
   "source": [
    "train_labels = []\n",
    "for fn in train_images_all:\n",
    "    train_labels.append(all_labels[fn])\n",
    "    \n",
    "val_labels = []\n",
    "for fn in val_images_all:\n",
    "    val_labels.append(all_labels[fn])\n",
    "\n",
    "print(\"labels length: \", len(train_labels), len(val_labels))"
   ]
  },
  {
   "cell_type": "code",
   "execution_count": null,
   "metadata": {},
   "outputs": [],
   "source": [
    "# encode text category labels\n",
    "from sklearn.preprocessing import LabelEncoder\n",
    "\n",
    "le = LabelEncoder()\n",
    "le.fit(train_labels)\n",
    "train_labels_enc = le.transform(train_labels)\n",
    "validation_labels_enc = le.transform(val_labels)\n",
    "\n",
    "validation_labels_enc"
   ]
  },
  {
   "cell_type": "code",
   "execution_count": null,
   "metadata": {},
   "outputs": [],
   "source": [
    "train_imgs_scaled = train_images_array.astype('float32')\n",
    "validation_imgs_scaled  = val_images_array.astype('float32')\n",
    "train_imgs_scaled /= 255\n",
    "validation_imgs_scaled /= 255\n",
    "\n",
    "print(train_images_array[0].shape)\n",
    "array_to_img(train_images_array[0])"
   ]
  },
  {
   "cell_type": "raw",
   "metadata": {},
   "source": [
    "Build model with transfer learning"
   ]
  },
  {
   "cell_type": "raw",
   "metadata": {},
   "source": [
    "Get VGG16"
   ]
  },
  {
   "cell_type": "code",
   "execution_count": null,
   "metadata": {},
   "outputs": [],
   "source": [
    "from keras.applications import vgg16\n",
    "from keras.models import Model\n",
    "import keras\n",
    "import pandas as pd"
   ]
  },
  {
   "cell_type": "code",
   "execution_count": null,
   "metadata": {},
   "outputs": [],
   "source": [
    "#25 devides both 1400 and 300\n",
    "batch_size = 25\n",
    "#remember, we excluded the last class\n",
    "num_classes = 6\n",
    "epochs = 20\n",
    "input_shape = (150, 150, 3)"
   ]
  },
  {
   "cell_type": "code",
   "execution_count": null,
   "metadata": {},
   "outputs": [],
   "source": [
    "vgg = vgg16.VGG16(include_top=False, weights='imagenet', \n",
    "                                     input_shape=input_shape)"
   ]
  },
  {
   "cell_type": "code",
   "execution_count": null,
   "metadata": {},
   "outputs": [],
   "source": [
    "output = vgg.layers[-1].output\n",
    "output = keras.layers.Flatten()(output)\n",
    "vgg_model = Model(vgg.input, output)\n"
   ]
  },
  {
   "cell_type": "code",
   "execution_count": null,
   "metadata": {},
   "outputs": [],
   "source": [
    "vgg_model.trainable = False\n",
    "for layer in vgg_model.layers:\n",
    "    layer.trainable = False"
   ]
  },
  {
   "cell_type": "code",
   "execution_count": null,
   "metadata": {},
   "outputs": [],
   "source": [
    "pd.set_option('max_colwidth', None)\n",
    "layers = [(layer, layer.name, layer.trainable) for layer in vgg_model.layers]\n",
    "pd.DataFrame(layers, columns=['Layer Type', 'Layer Name', 'Layer Trainable'])    "
   ]
  },
  {
   "cell_type": "code",
   "execution_count": null,
   "metadata": {},
   "outputs": [],
   "source": [
    "bottleneck_feature_example = vgg.predict(train_imgs_scaled[0:1])\n",
    "print(bottleneck_feature_example.shape)\n",
    "plt.imshow(bottleneck_feature_example[0][:,:,0])"
   ]
  },
  {
   "cell_type": "code",
   "execution_count": null,
   "metadata": {},
   "outputs": [],
   "source": [
    "def get_bottleneck_features(model, input_imgs):\n",
    "    features = model.predict(input_imgs, verbose=1)\n",
    "    return features\n",
    "    \n",
    "train_features_vgg = get_bottleneck_features(vgg_model, train_imgs_scaled)\n",
    "validation_features_vgg = get_bottleneck_features(vgg_model, validation_imgs_scaled)\n",
    "\n",
    "print('Train Bottleneck Features:', train_features_vgg.shape, \n",
    "      '\\tValidation Bottleneck Features:', validation_features_vgg.shape)"
   ]
  },
  {
   "cell_type": "code",
   "execution_count": null,
   "metadata": {},
   "outputs": [],
   "source": [
    "from keras.layers import Conv2D, MaxPooling2D, Flatten, Dense, Dropout, InputLayer\n",
    "from keras.models import Sequential\n",
    "from keras import optimizers"
   ]
  },
  {
   "cell_type": "code",
   "execution_count": null,
   "metadata": {},
   "outputs": [],
   "source": [
    "input_shape = vgg_model.output_shape[1]\n",
    "input_shape"
   ]
  },
  {
   "cell_type": "code",
   "execution_count": null,
   "metadata": {},
   "outputs": [],
   "source": [
    "model = Sequential()\n",
    "model.add(InputLayer(input_shape=(input_shape,)))\n",
    "model.add(Dense(512, activation='relu', input_dim=input_shape))\n",
    "model.add(Dropout(0.3))\n",
    "model.add(Dense(512, activation='relu'))\n",
    "model.add(Dropout(0.3))\n",
    "model.add(Dense(num_classes, activation='sigmoid'))\n"
   ]
  },
  {
   "cell_type": "code",
   "execution_count": null,
   "metadata": {},
   "outputs": [],
   "source": [
    "model.compile(loss='sparse_categorical_crossentropy',\n",
    "              optimizer=optimizers.RMSprop(lr=1e-4),\n",
    "              metrics=['accuracy'])"
   ]
  },
  {
   "cell_type": "code",
   "execution_count": null,
   "metadata": {},
   "outputs": [],
   "source": [
    "model.summary()"
   ]
  },
  {
   "cell_type": "code",
   "execution_count": null,
   "metadata": {},
   "outputs": [],
   "source": [
    "history = model.fit(x=train_features_vgg, y=train_labels_enc,\n",
    "                    validation_data=(validation_features_vgg, validation_labels_enc),\n",
    "                    batch_size=batch_size,\n",
    "                    epochs=epochs,\n",
    "                    verbose=1)"
   ]
  },
  {
   "cell_type": "code",
   "execution_count": null,
   "metadata": {},
   "outputs": [],
   "source": [
    "model.save('model_classify_frames_v2.h5')"
   ]
  },
  {
   "cell_type": "code",
   "execution_count": null,
   "metadata": {},
   "outputs": [],
   "source": [
    "#plot results\n",
    "acc = history.history['accuracy']\n",
    "val_acc = history.history['val_accuracy']\n",
    "\n",
    "loss = history.history['loss']\n",
    "val_loss = history.history['val_loss']\n",
    "\n",
    "epochs_range = range(epochs)\n",
    "\n",
    "plt.figure(figsize=(8, 8))\n",
    "plt.subplot(1, 2, 1)\n",
    "plt.plot(epochs_range, acc, label='Training Accuracy')\n",
    "plt.plot(epochs_range, val_acc, label='Validation Accuracy')\n",
    "plt.legend(loc='lower right')\n",
    "plt.title('Training and Validation Accuracy')\n",
    "\n",
    "plt.subplot(1, 2, 2)\n",
    "plt.plot(epochs_range, loss, label='Training Loss')\n",
    "plt.plot(epochs_range, val_loss, label='Validation Loss')\n",
    "plt.legend(loc='upper right')\n",
    "plt.title('Training and Validation Loss')\n",
    "plt.show()"
   ]
  },
  {
   "cell_type": "code",
   "execution_count": null,
   "metadata": {},
   "outputs": [],
   "source": [
    "test_images_array = [img_to_array(load_img(\"C:/Users/Lukas/Desktop/commaai-speed-challenge/data/frames/\"+img, target_size=IMG_DIM)) for img in test_images_all]\n",
    "test_images_array = np.array(test_images_array)\n",
    "\n",
    "test_imgs_scaled = test_images_array.astype('float32')\n",
    "test_imgs_scaled /= 255\n",
    "\n",
    "print(test_images_array[0].shape)\n",
    "array_to_img(test_images_array[0])"
   ]
  },
  {
   "cell_type": "code",
   "execution_count": null,
   "metadata": {},
   "outputs": [],
   "source": [
    "test_bottleneck_features = get_bottleneck_features(vgg_model, test_imgs_scaled)\n"
   ]
  },
  {
   "cell_type": "code",
   "execution_count": null,
   "metadata": {},
   "outputs": [],
   "source": [
    "predicted_ids = model.predict_classes(test_bottleneck_features, verbose=1)\n",
    "predicted_class_names = [i * 5 for i in predicted_ids]\n"
   ]
  },
  {
   "cell_type": "code",
   "execution_count": null,
   "metadata": {},
   "outputs": [],
   "source": [
    "test_labels = []\n",
    "for fn in test_images_all:\n",
    "    test_labels.append(all_labels[fn])\n"
   ]
  },
  {
   "cell_type": "code",
   "execution_count": null,
   "metadata": {},
   "outputs": [],
   "source": [
    "results = model.evaluate(test_bottleneck_features, np.array(test_labels), batch_size=batch_size)\n"
   ]
  },
  {
   "cell_type": "code",
   "execution_count": null,
   "metadata": {},
   "outputs": [],
   "source": []
  }
 ],
 "metadata": {
  "kernelspec": {
   "display_name": "Python 3",
   "language": "python",
   "name": "python3"
  },
  "language_info": {
   "codemirror_mode": {
    "name": "ipython",
    "version": 3
   },
   "file_extension": ".py",
   "mimetype": "text/x-python",
   "name": "python",
   "nbconvert_exporter": "python",
   "pygments_lexer": "ipython3",
   "version": "3.8.5"
  }
 },
 "nbformat": 4,
 "nbformat_minor": 4
}
