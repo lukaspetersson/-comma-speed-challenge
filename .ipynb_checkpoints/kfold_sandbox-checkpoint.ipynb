{
 "cells": [
  {
   "cell_type": "code",
   "execution_count": null,
   "metadata": {
    "id": "1iIUHO2zRvTN"
   },
   "outputs": [],
   "source": [
    "# imports\r\n",
    "import numpy as np\r\n",
    "import cv2\r\n",
    "from google.colab import drive\r\n",
    "import gc\r\n",
    "import random\r\n",
    "from sklearn.model_selection import train_test_split\r\n",
    "from keras.preprocessing.image import array_to_img\r\n"
   ]
  },
  {
   "cell_type": "code",
   "execution_count": null,
   "metadata": {
    "id": "WKjSAHTKr55p"
   },
   "outputs": [],
   "source": [
    "# constants\r\n",
    "IMG_DIM = (100,100)\r\n",
    "EPOCHS = 20\r\n",
    "FOLDS = 5\r\n",
    "BATCH_SIZE = 32\r\n",
    "TEST_SPLIT = 0.1\r\n",
    "VAL_SPLIT = 0.2\r\n",
    "SHUFFLE = True"
   ]
  },
  {
   "cell_type": "code",
   "execution_count": null,
   "metadata": {
    "colab": {
     "base_uri": "https://localhost:8080/"
    },
    "executionInfo": {
     "elapsed": 3440,
     "status": "ok",
     "timestamp": 1610639010510,
     "user": {
      "displayName": "Lukas Petersson",
      "photoUrl": "",
      "userId": "13708420744063103447"
     },
     "user_tz": -60
    },
    "id": "G7CCr56hrqkj",
    "outputId": "38862b11-33db-46f6-8674-0246870b8ac3"
   },
   "outputs": [
    {
     "data": {
      "text/plain": [
       "33"
      ]
     },
     "execution_count": 3,
     "metadata": {
      "tags": []
     },
     "output_type": "execute_result"
    }
   ],
   "source": [
    "# image prep functions\r\n",
    "def opticalFlow(frame1,frame2):\r\n",
    "    # crop image to remove static car\r\n",
    "    frame1 = frame1[170:380]\r\n",
    "    #scale to resize\r\n",
    "    frame1 = cv2.resize(frame1, (0,0), fx = 0.4, fy = 0.6)\r\n",
    "    frame2 = frame2[170:380]\r\n",
    "    frame2 = cv2.resize(frame2, (0,0), fx = 0.4, fy = 0.6)\r\n",
    "    flow = np.zeros_like(frame1)\r\n",
    "    prev = cv2.cvtColor(frame1,cv2.COLOR_BGR2GRAY)\r\n",
    "    next = cv2.cvtColor(frame2,cv2.COLOR_BGR2GRAY)\r\n",
    "    flow_data = cv2.calcOpticalFlowFarneback(prev, next, None, 0.4, 1, 12, 2, 8, 1.2, 0)\r\n",
    "    mag, ang = cv2.cartToPolar(flow_data[...,0], flow_data[...,1])\r\n",
    "    flow[...,1] = 255\r\n",
    "    flow[...,0] = ang*180/np.pi/2\r\n",
    "    flow[...,2] = (mag *15).astype(int)\r\n",
    "    return flow\r\n",
    "\r\n",
    "def getImages(path):\r\n",
    "    images = []\r\n",
    "    cap = cv2.VideoCapture(path)\r\n",
    "    ret, prev = cap.read()\r\n",
    "    i = 0\r\n",
    "    while True:\r\n",
    "        ret, next  = cap.read()\r\n",
    "        if not ret:\r\n",
    "            break\r\n",
    "        flow = opticalFlow(prev,next)\r\n",
    "        flow = cv2.resize(flow, IMG_DIM, interpolation = cv2.INTER_AREA)\r\n",
    "        images.append(flow/127.5 - 1)\r\n",
    "        prev = next\r\n",
    "        i+=1\r\n",
    "    images = np.array(images)\r\n",
    "    return images\r\n",
    "gc.collect()"
   ]
  },
  {
   "cell_type": "code",
   "execution_count": null,
   "metadata": {
    "colab": {
     "base_uri": "https://localhost:8080/"
    },
    "executionInfo": {
     "elapsed": 3423,
     "status": "ok",
     "timestamp": 1610639010512,
     "user": {
      "displayName": "Lukas Petersson",
      "photoUrl": "",
      "userId": "13708420744063103447"
     },
     "user_tz": -60
    },
    "id": "gxTG2r_BYtcy",
    "outputId": "82130451-e430-48b2-b0fb-4c53e9b8c7bb"
   },
   "outputs": [
    {
     "data": {
      "text/plain": [
       "41"
      ]
     },
     "execution_count": 4,
     "metadata": {
      "tags": []
     },
     "output_type": "execute_result"
    }
   ],
   "source": [
    "# label prep function\r\n",
    "def getLabels(path):\r\n",
    "    labels = []\r\n",
    "    f = open(path,'r')\r\n",
    "    for l in f:\r\n",
    "        labels.append(float(l))\r\n",
    "    labels = np.array(labels[0:-1])\r\n",
    "    return labels\r\n",
    "gc.collect()"
   ]
  },
  {
   "cell_type": "code",
   "execution_count": null,
   "metadata": {
    "colab": {
     "base_uri": "https://localhost:8080/"
    },
    "executionInfo": {
     "elapsed": 3408,
     "status": "ok",
     "timestamp": 1610639010514,
     "user": {
      "displayName": "Lukas Petersson",
      "photoUrl": "",
      "userId": "13708420744063103447"
     },
     "user_tz": -60
    },
    "id": "fSLw0pAVbBjK",
    "outputId": "894af03c-0b0b-4495-e9aa-35c5efa7a38d"
   },
   "outputs": [
    {
     "data": {
      "text/plain": [
       "22"
      ]
     },
     "execution_count": 5,
     "metadata": {
      "tags": []
     },
     "output_type": "execute_result"
    }
   ],
   "source": [
    "# shuffel function\r\n",
    "\r\n",
    "def shuffle(X,Y):\r\n",
    "    rand = list(zip(X, Y))\r\n",
    "    random.shuffle(rand)\r\n",
    "    X, Y = zip(*rand)\r\n",
    "    X = np.array(X)\r\n",
    "    Y = np.array(Y)\r\n",
    "    return (X,Y)\r\n",
    "gc.collect()"
   ]
  },
  {
   "cell_type": "code",
   "execution_count": null,
   "metadata": {
    "colab": {
     "base_uri": "https://localhost:8080/"
    },
    "executionInfo": {
     "elapsed": 20381,
     "status": "ok",
     "timestamp": 1610639027505,
     "user": {
      "displayName": "Lukas Petersson",
      "photoUrl": "",
      "userId": "13708420744063103447"
     },
     "user_tz": -60
    },
    "id": "PMqDcSY7qkRG",
    "outputId": "60ed7293-91a5-406a-f5e4-599de60f8264"
   },
   "outputs": [
    {
     "name": "stdout",
     "output_type": "stream",
     "text": [
      "Mounted at /content/drive/\n"
     ]
    },
    {
     "data": {
      "text/plain": [
       "0"
      ]
     },
     "execution_count": 6,
     "metadata": {
      "tags": []
     },
     "output_type": "execute_result"
    }
   ],
   "source": [
    "# paths\r\n",
    "\r\n",
    "drive.mount('/content/drive/')\r\n",
    "X_path = \"drive/MyDrive/Colab Notebooks/commaai/data/train.mp4\"\r\n",
    "Y_path = \"drive/MyDrive/Colab Notebooks/commaai/data/train.txt\"\r\n",
    "\r\n",
    "gc.collect()"
   ]
  },
  {
   "cell_type": "code",
   "execution_count": null,
   "metadata": {
    "colab": {
     "base_uri": "https://localhost:8080/"
    },
    "executionInfo": {
     "elapsed": 226791,
     "status": "ok",
     "timestamp": 1610639233932,
     "user": {
      "displayName": "Lukas Petersson",
      "photoUrl": "",
      "userId": "13708420744063103447"
     },
     "user_tz": -60
    },
    "id": "f0f50WLqZuIH",
    "outputId": "5203598f-4be1-484a-91a2-6c5f0ace3186"
   },
   "outputs": [
    {
     "data": {
      "text/plain": [
       "0"
      ]
     },
     "execution_count": 7,
     "metadata": {
      "tags": []
     },
     "output_type": "execute_result"
    }
   ],
   "source": [
    "# make dataset\r\n",
    "\r\n",
    "Y = getLabels(Y_path)\r\n",
    "X = getImages(X_path)\r\n",
    "\r\n",
    "gc.collect()"
   ]
  },
  {
   "cell_type": "code",
   "execution_count": null,
   "metadata": {
    "colab": {
     "base_uri": "https://localhost:8080/",
     "height": 117
    },
    "executionInfo": {
     "elapsed": 226782,
     "status": "ok",
     "timestamp": 1610639233946,
     "user": {
      "displayName": "Lukas Petersson",
      "photoUrl": "",
      "userId": "13708420744063103447"
     },
     "user_tz": -60
    },
    "id": "fNwm-qGtdfOS",
    "outputId": "8ee0604d-e8ea-41d7-a8f4-b50f713cdcee"
   },
   "outputs": [
    {
     "data": {
      "image/png": "[encoded data removed]",
      "text/plain": [
       "<PIL.Image.Image image mode=RGB size=100x100 at 0x7F1A23D29080>"
      ]
     },
     "execution_count": 8,
     "metadata": {
      "tags": []
     },
     "output_type": "execute_result"
    }
   ],
   "source": [
    "array_to_img(X[101])"
   ]
  },
  {
   "cell_type": "code",
   "execution_count": null,
   "metadata": {
    "colab": {
     "base_uri": "https://localhost:8080/"
    },
    "executionInfo": {
     "elapsed": 228223,
     "status": "ok",
     "timestamp": 1610639235408,
     "user": {
      "displayName": "Lukas Petersson",
      "photoUrl": "",
      "userId": "13708420744063103447"
     },
     "user_tz": -60
    },
    "id": "BDGDiHlbaE_8",
    "outputId": "92d61c89-d06e-4d7c-dbf9-ec93ea373c58"
   },
   "outputs": [
    {
     "data": {
      "text/plain": [
       "0"
      ]
     },
     "execution_count": 9,
     "metadata": {
      "tags": []
     },
     "output_type": "execute_result"
    }
   ],
   "source": [
    "# remove 3rd channel \r\n",
    "X = X[:,:,:,[0,2]]\r\n",
    "gc.collect()"
   ]
  },
  {
   "cell_type": "code",
   "execution_count": null,
   "metadata": {
    "id": "1K7uPhEQevZ_"
   },
   "outputs": [],
   "source": [
    "from keras.models import Sequential\r\n",
    "from keras.layers import Dropout, Flatten, Dense, Activation\r\n",
    "from keras.layers.convolutional import Conv2D , MaxPooling2D\r\n",
    "from sklearn.model_selection import  KFold\r\n",
    "import matplotlib.pyplot as plt\r\n",
    "%matplotlib inline\r\n"
   ]
  },
  {
   "cell_type": "code",
   "execution_count": null,
   "metadata": {
    "colab": {
     "base_uri": "https://localhost:8080/"
    },
    "executionInfo": {
     "elapsed": 228204,
     "status": "ok",
     "timestamp": 1610639235411,
     "user": {
      "displayName": "Lukas Petersson",
      "photoUrl": "",
      "userId": "13708420744063103447"
     },
     "user_tz": -60
    },
    "id": "Z0nganiIc-bj",
    "outputId": "ca263cea-459d-46a6-aecf-26b2284d1d94"
   },
   "outputs": [
    {
     "data": {
      "text/plain": [
       "30"
      ]
     },
     "execution_count": 11,
     "metadata": {
      "tags": []
     },
     "output_type": "execute_result"
    }
   ],
   "source": [
    "# create model function\r\n",
    "\r\n",
    "def getModel():\r\n",
    "    model = Sequential()\r\n",
    "    model.add(Conv2D(filters=24, kernel_size=(5, 5), strides=(2, 2),activation='relu'))\r\n",
    "    model.add(Conv2D(filters=36, kernel_size=(5, 5),strides=(2, 2), activation='relu'))\r\n",
    "    model.add(Conv2D(filters=48, kernel_size=(5, 5), strides=(2, 2),activation='relu'))\r\n",
    "    model.add(Conv2D(filters=64, kernel_size=(3, 3) ,activation='relu'))\r\n",
    "    model.add(Conv2D(filters=64, kernel_size=(3, 3),activation='relu'))\r\n",
    "    model.add(Dropout(0.5))\r\n",
    "    model.add(Flatten())\r\n",
    "    model.add(Dense(units=100, activation='relu'))\r\n",
    "    model.add(Dense(units=50, activation='relu'))\r\n",
    "    model.add(Dense(units=10, activation='relu'))\r\n",
    "    model.add(Dense(units=1))\r\n",
    "\r\n",
    "    model.compile(loss='mse',optimizer='adam')\r\n",
    "    return model\r\n",
    "    \r\n",
    "gc.collect()"
   ]
  },
  {
   "cell_type": "code",
   "execution_count": null,
   "metadata": {
    "colab": {
     "base_uri": "https://localhost:8080/"
    },
    "executionInfo": {
     "elapsed": 228184,
     "status": "ok",
     "timestamp": 1610639235413,
     "user": {
      "displayName": "Lukas Petersson",
      "photoUrl": "",
      "userId": "13708420744063103447"
     },
     "user_tz": -60
    },
    "id": "plNoKY_9iJji",
    "outputId": "4e9cd99b-6c84-43f1-c67f-aa2cbb386655"
   },
   "outputs": [
    {
     "data": {
      "text/plain": [
       "22"
      ]
     },
     "execution_count": 13,
     "metadata": {
      "tags": []
     },
     "output_type": "execute_result"
    }
   ],
   "source": [
    "def plot(history):\r\n",
    "    plt.subplot(1, 2, 2)\r\n",
    "    plt.plot(history.history['loss'])\r\n",
    "    plt.plot(history.history['val_loss'])\r\n",
    "    plt.legend(['training', 'validation'])\r\n",
    "    plt.title('Loss')\r\n",
    "    plt.xlabel('Epoch')\r\n",
    "    plt.show()\r\n",
    "gc.collect()"
   ]
  },
  {
   "cell_type": "code",
   "execution_count": null,
   "metadata": {
    "colab": {
     "base_uri": "https://localhost:8080/"
    },
    "executionInfo": {
     "elapsed": 229188,
     "status": "ok",
     "timestamp": 1610639236436,
     "user": {
      "displayName": "Lukas Petersson",
      "photoUrl": "",
      "userId": "13708420744063103447"
     },
     "user_tz": -60
    },
    "id": "aZ4sBuMiaRNq",
    "outputId": "07f87f87-c195-4860-8090-fbfe84202f96"
   },
   "outputs": [
    {
     "data": {
      "text/plain": [
       "0"
      ]
     },
     "execution_count": 14,
     "metadata": {
      "tags": []
     },
     "output_type": "execute_result"
    }
   ],
   "source": [
    "# split dataset\r\n",
    "X_train, X_test, Y_train, Y_test = train_test_split(X, Y, test_size=TEST_SPLIT, shuffle = False)\r\n",
    "\r\n",
    "gc.collect()"
   ]
  },
  {
   "cell_type": "code",
   "execution_count": null,
   "metadata": {
    "colab": {
     "base_uri": "https://localhost:8080/"
    },
    "executionInfo": {
     "elapsed": 229167,
     "status": "ok",
     "timestamp": 1610639236438,
     "user": {
      "displayName": "Lukas Petersson",
      "photoUrl": "",
      "userId": "13708420744063103447"
     },
     "user_tz": -60
    },
    "id": "E-H42StMS97W",
    "outputId": "ef465d33-a37a-45d3-8e90-e5db0410e09d"
   },
   "outputs": [
    {
     "data": {
      "text/plain": [
       "0"
      ]
     },
     "execution_count": 15,
     "metadata": {
      "tags": []
     },
     "output_type": "execute_result"
    }
   ],
   "source": [
    "del X, Y\r\n",
    "gc.collect()"
   ]
  },
  {
   "cell_type": "code",
   "execution_count": null,
   "metadata": {
    "colab": {
     "base_uri": "https://localhost:8080/",
     "height": 1000
    },
    "executionInfo": {
     "elapsed": 496544,
     "status": "ok",
     "timestamp": 1610639503833,
     "user": {
      "displayName": "Lukas Petersson",
      "photoUrl": "",
      "userId": "13708420744063103447"
     },
     "user_tz": -60
    },
    "id": "s_XuFgdih9M4",
    "outputId": "e1509b86-f617-4378-f583-ca5fc66bda29"
   },
   "outputs": [
    {
     "name": "stdout",
     "output_type": "stream",
     "text": [
      "Training on data of size: 14687 Val size: 3672\n",
      "Epoch 1/20\n",
      "459/459 [==============================] - 7s 7ms/step - loss: 48.7374 - val_loss: 8.8742\n",
      "Epoch 2/20\n",
      "459/459 [==============================] - 2s 5ms/step - loss: 10.4606 - val_loss: 11.7634\n",
      "Epoch 3/20\n",
      "459/459 [==============================] - 2s 5ms/step - loss: 6.7724 - val_loss: 6.9934\n",
      "Epoch 4/20\n",
      "459/459 [==============================] - 2s 5ms/step - loss: 5.0636 - val_loss: 7.6957\n",
      "Epoch 5/20\n",
      "459/459 [==============================] - 2s 5ms/step - loss: 4.1267 - val_loss: 6.2239\n",
      "Epoch 6/20\n",
      "459/459 [==============================] - 2s 5ms/step - loss: 3.3214 - val_loss: 7.0348\n",
      "Epoch 7/20\n",
      "459/459 [==============================] - 2s 5ms/step - loss: 2.8601 - val_loss: 7.4980\n",
      "Epoch 8/20\n",
      "459/459 [==============================] - 2s 5ms/step - loss: 2.5289 - val_loss: 7.4567\n",
      "Epoch 9/20\n",
      "459/459 [==============================] - 2s 5ms/step - loss: 2.2724 - val_loss: 9.8978\n",
      "Epoch 10/20\n",
      "459/459 [==============================] - 2s 5ms/step - loss: 2.0098 - val_loss: 9.0616\n",
      "Epoch 11/20\n",
      "459/459 [==============================] - 2s 5ms/step - loss: 1.8439 - val_loss: 7.4329\n",
      "Epoch 12/20\n",
      "459/459 [==============================] - 2s 5ms/step - loss: 1.6348 - val_loss: 7.4849\n",
      "Epoch 13/20\n",
      "459/459 [==============================] - 2s 5ms/step - loss: 1.4791 - val_loss: 6.6480\n",
      "Epoch 14/20\n",
      "459/459 [==============================] - 2s 5ms/step - loss: 1.3363 - val_loss: 9.7708\n",
      "Epoch 15/20\n",
      "459/459 [==============================] - 2s 5ms/step - loss: 1.2387 - val_loss: 7.5200\n",
      "Epoch 16/20\n",
      "459/459 [==============================] - 2s 5ms/step - loss: 1.1754 - val_loss: 8.1879\n",
      "Epoch 17/20\n",
      "459/459 [==============================] - 3s 6ms/step - loss: 1.1193 - val_loss: 8.6689\n",
      "Epoch 18/20\n",
      "459/459 [==============================] - 3s 6ms/step - loss: 1.0252 - val_loss: 6.5020\n",
      "Epoch 19/20\n",
      "459/459 [==============================] - 2s 5ms/step - loss: 0.9678 - val_loss: 6.8230\n",
      "Epoch 20/20\n",
      "459/459 [==============================] - 2s 5ms/step - loss: 0.8534 - val_loss: 6.6439\n"
     ]
    },
    {
     "data": {
      "image/png": "[encoded data removed]",
      "text/plain": [
       "<Figure size 432x288 with 1 Axes>"
      ]
     },
     "metadata": {
      "needs_background": "light",
      "tags": []
     },
     "output_type": "display_data"
    },
    {
     "name": "stdout",
     "output_type": "stream",
     "text": [
      "Evaluateing:\n",
      "64/64 [==============================] - 0s 3ms/step - loss: 2.9152\n",
      "Training on data of size: 14687 Val size: 3672\n",
      "Epoch 1/20\n",
      "459/459 [==============================] - 3s 6ms/step - loss: 45.0152 - val_loss: 10.6832\n",
      "Epoch 2/20\n",
      "459/459 [==============================] - 2s 5ms/step - loss: 9.7910 - val_loss: 10.5274\n",
      "Epoch 3/20\n",
      "459/459 [==============================] - 2s 5ms/step - loss: 6.6579 - val_loss: 16.1276\n",
      "Epoch 4/20\n",
      "459/459 [==============================] - 2s 5ms/step - loss: 4.8595 - val_loss: 13.2714\n",
      "Epoch 5/20\n",
      "459/459 [==============================] - 2s 5ms/step - loss: 4.0031 - val_loss: 15.7203\n",
      "Epoch 6/20\n",
      "459/459 [==============================] - 2s 5ms/step - loss: 3.3455 - val_loss: 10.9591\n",
      "Epoch 7/20\n",
      "459/459 [==============================] - 2s 5ms/step - loss: 3.1468 - val_loss: 10.8214\n",
      "Epoch 8/20\n",
      "459/459 [==============================] - 2s 5ms/step - loss: 2.6365 - val_loss: 9.9839\n",
      "Epoch 9/20\n",
      "459/459 [==============================] - 2s 5ms/step - loss: 2.4514 - val_loss: 13.5157\n",
      "Epoch 10/20\n",
      "459/459 [==============================] - 2s 5ms/step - loss: 2.1946 - val_loss: 13.5497\n",
      "Epoch 11/20\n",
      "459/459 [==============================] - 2s 5ms/step - loss: 2.0089 - val_loss: 10.6813\n",
      "Epoch 12/20\n",
      "459/459 [==============================] - 2s 5ms/step - loss: 1.9657 - val_loss: 11.4021\n",
      "Epoch 13/20\n",
      "459/459 [==============================] - 2s 5ms/step - loss: 1.7023 - val_loss: 11.3761\n",
      "Epoch 14/20\n",
      "459/459 [==============================] - 2s 5ms/step - loss: 1.7139 - val_loss: 10.2484\n",
      "Epoch 15/20\n",
      "459/459 [==============================] - 2s 5ms/step - loss: 1.4510 - val_loss: 12.1733\n",
      "Epoch 16/20\n",
      "459/459 [==============================] - 2s 5ms/step - loss: 1.4841 - val_loss: 8.4826\n",
      "Epoch 17/20\n",
      "459/459 [==============================] - 3s 5ms/step - loss: 1.3675 - val_loss: 12.8553\n",
      "Epoch 18/20\n",
      "459/459 [==============================] - 2s 5ms/step - loss: 1.3029 - val_loss: 9.2582\n",
      "Epoch 19/20\n",
      "459/459 [==============================] - 2s 5ms/step - loss: 1.1964 - val_loss: 8.3642\n",
      "Epoch 20/20\n",
      "459/459 [==============================] - 2s 5ms/step - loss: 1.0967 - val_loss: 8.8737\n"
     ]
    },
    {
     "data": {
      "image/png": "[encoded data removed]",
      "text/plain": [
       "<Figure size 432x288 with 1 Axes>"
      ]
     },
     "metadata": {
      "needs_background": "light",
      "tags": []
     },
     "output_type": "display_data"
    },
    {
     "name": "stdout",
     "output_type": "stream",
     "text": [
      "Evaluateing:\n",
      "64/64 [==============================] - 0s 3ms/step - loss: 2.5581\n",
      "Training on data of size: 14687 Val size: 3672\n",
      "Epoch 1/20\n",
      "459/459 [==============================] - 3s 6ms/step - loss: 48.5788 - val_loss: 33.4752\n",
      "Epoch 2/20\n",
      "459/459 [==============================] - 2s 5ms/step - loss: 7.4528 - val_loss: 51.6317\n",
      "Epoch 3/20\n",
      "459/459 [==============================] - 2s 5ms/step - loss: 4.8778 - val_loss: 34.6842\n",
      "Epoch 4/20\n",
      "459/459 [==============================] - 2s 5ms/step - loss: 3.7622 - val_loss: 39.0053\n",
      "Epoch 5/20\n",
      "459/459 [==============================] - 2s 5ms/step - loss: 3.3044 - val_loss: 38.0811\n",
      "Epoch 6/20\n",
      "459/459 [==============================] - 2s 5ms/step - loss: 2.8887 - val_loss: 41.3334\n",
      "Epoch 7/20\n",
      "459/459 [==============================] - 2s 5ms/step - loss: 2.6284 - val_loss: 34.3121\n",
      "Epoch 8/20\n",
      "459/459 [==============================] - 2s 5ms/step - loss: 2.3010 - val_loss: 27.5970\n",
      "Epoch 9/20\n",
      "459/459 [==============================] - 2s 5ms/step - loss: 2.1751 - val_loss: 31.1636\n",
      "Epoch 10/20\n",
      "459/459 [==============================] - 2s 5ms/step - loss: 2.0041 - val_loss: 30.7420\n",
      "Epoch 11/20\n",
      "459/459 [==============================] - 2s 5ms/step - loss: 1.9268 - val_loss: 32.8433\n",
      "Epoch 12/20\n",
      "459/459 [==============================] - 2s 5ms/step - loss: 1.7204 - val_loss: 30.0087\n",
      "Epoch 13/20\n",
      "459/459 [==============================] - 2s 5ms/step - loss: 1.6673 - val_loss: 27.6439\n",
      "Epoch 14/20\n",
      "459/459 [==============================] - 2s 5ms/step - loss: 1.6384 - val_loss: 31.0770\n",
      "Epoch 15/20\n",
      "459/459 [==============================] - 2s 5ms/step - loss: 1.4226 - val_loss: 31.6892\n",
      "Epoch 16/20\n",
      "459/459 [==============================] - 2s 5ms/step - loss: 1.3364 - val_loss: 28.6050\n",
      "Epoch 17/20\n",
      "459/459 [==============================] - 2s 5ms/step - loss: 1.2689 - val_loss: 25.8748\n",
      "Epoch 18/20\n",
      "459/459 [==============================] - 2s 5ms/step - loss: 1.1946 - val_loss: 31.8028\n",
      "Epoch 19/20\n",
      "459/459 [==============================] - 2s 5ms/step - loss: 1.1673 - val_loss: 30.4415\n",
      "Epoch 20/20\n",
      "459/459 [==============================] - 2s 5ms/step - loss: 1.1056 - val_loss: 29.5386\n"
     ]
    },
    {
     "data": {
      "image/png": "[encoded data removed]",
      "text/plain": [
       "<Figure size 432x288 with 1 Axes>"
      ]
     },
     "metadata": {
      "needs_background": "light",
      "tags": []
     },
     "output_type": "display_data"
    },
    {
     "name": "stdout",
     "output_type": "stream",
     "text": [
      "Evaluateing:\n",
      "64/64 [==============================] - 0s 3ms/step - loss: 2.2558\n",
      "Training on data of size: 14687 Val size: 3672\n",
      "Epoch 1/20\n",
      "459/459 [==============================] - 3s 6ms/step - loss: 72.7146 - val_loss: 10.3306\n",
      "Epoch 2/20\n",
      "459/459 [==============================] - 2s 5ms/step - loss: 13.9712 - val_loss: 7.1602\n",
      "Epoch 3/20\n",
      "459/459 [==============================] - 2s 5ms/step - loss: 8.8938 - val_loss: 7.0946\n",
      "Epoch 4/20\n",
      "459/459 [==============================] - 2s 5ms/step - loss: 6.9274 - val_loss: 5.7675\n",
      "Epoch 5/20\n",
      "459/459 [==============================] - 2s 5ms/step - loss: 5.4491 - val_loss: 4.1334\n",
      "Epoch 6/20\n",
      "459/459 [==============================] - 2s 5ms/step - loss: 4.7182 - val_loss: 4.1746\n",
      "Epoch 7/20\n",
      "459/459 [==============================] - 2s 5ms/step - loss: 4.1132 - val_loss: 4.0274\n",
      "Epoch 8/20\n",
      "459/459 [==============================] - 2s 5ms/step - loss: 3.6683 - val_loss: 3.1978\n",
      "Epoch 9/20\n",
      "459/459 [==============================] - 2s 5ms/step - loss: 3.4294 - val_loss: 3.2884\n",
      "Epoch 10/20\n",
      "459/459 [==============================] - 2s 5ms/step - loss: 3.0083 - val_loss: 3.2007\n",
      "Epoch 11/20\n",
      "459/459 [==============================] - 2s 5ms/step - loss: 2.7972 - val_loss: 2.6775\n",
      "Epoch 12/20\n",
      "459/459 [==============================] - 2s 5ms/step - loss: 2.5573 - val_loss: 1.8695\n",
      "Epoch 13/20\n",
      "459/459 [==============================] - 2s 5ms/step - loss: 2.2810 - val_loss: 1.9787\n",
      "Epoch 14/20\n",
      "459/459 [==============================] - 2s 5ms/step - loss: 2.1254 - val_loss: 2.3665\n",
      "Epoch 15/20\n",
      "459/459 [==============================] - 2s 5ms/step - loss: 1.9894 - val_loss: 3.2313\n",
      "Epoch 16/20\n",
      "459/459 [==============================] - 2s 5ms/step - loss: 1.9247 - val_loss: 3.0435\n",
      "Epoch 17/20\n",
      "459/459 [==============================] - 2s 5ms/step - loss: 1.8756 - val_loss: 2.2571\n",
      "Epoch 18/20\n",
      "459/459 [==============================] - 2s 5ms/step - loss: 1.6975 - val_loss: 2.1815\n",
      "Epoch 19/20\n",
      "459/459 [==============================] - 2s 5ms/step - loss: 1.5732 - val_loss: 2.0305\n",
      "Epoch 20/20\n",
      "459/459 [==============================] - 2s 5ms/step - loss: 1.4650 - val_loss: 2.1433\n"
     ]
    },
    {
     "data": {
      "image/png": "[encoded data removed]",
      "text/plain": [
       "<Figure size 432x288 with 1 Axes>"
      ]
     },
     "metadata": {
      "needs_background": "light",
      "tags": []
     },
     "output_type": "display_data"
    },
    {
     "name": "stdout",
     "output_type": "stream",
     "text": [
      "Evaluateing:\n",
      "64/64 [==============================] - 0s 3ms/step - loss: 4.7443\n",
      "Training on data of size: 14688 Val size: 3671\n",
      "Epoch 1/20\n",
      "459/459 [==============================] - 3s 6ms/step - loss: 58.3567 - val_loss: 24.4881\n",
      "Epoch 2/20\n",
      "459/459 [==============================] - 2s 5ms/step - loss: 10.6256 - val_loss: 25.7347\n",
      "Epoch 3/20\n",
      "459/459 [==============================] - 2s 5ms/step - loss: 7.0897 - val_loss: 17.0409\n",
      "Epoch 4/20\n",
      "459/459 [==============================] - 2s 5ms/step - loss: 5.3415 - val_loss: 17.1594\n",
      "Epoch 5/20\n",
      "459/459 [==============================] - 2s 5ms/step - loss: 4.2329 - val_loss: 9.2840\n",
      "Epoch 6/20\n",
      "459/459 [==============================] - 2s 5ms/step - loss: 3.7234 - val_loss: 9.7470\n",
      "Epoch 7/20\n",
      "459/459 [==============================] - 2s 5ms/step - loss: 3.3229 - val_loss: 8.5677\n",
      "Epoch 8/20\n",
      "459/459 [==============================] - 2s 5ms/step - loss: 2.7887 - val_loss: 11.4392\n",
      "Epoch 9/20\n",
      "459/459 [==============================] - 2s 5ms/step - loss: 2.5502 - val_loss: 7.3608\n",
      "Epoch 10/20\n",
      "459/459 [==============================] - 2s 5ms/step - loss: 2.4683 - val_loss: 7.6238\n",
      "Epoch 11/20\n",
      "459/459 [==============================] - 2s 5ms/step - loss: 2.2338 - val_loss: 7.2851\n",
      "Epoch 12/20\n",
      "459/459 [==============================] - 2s 5ms/step - loss: 1.9902 - val_loss: 10.6985\n",
      "Epoch 13/20\n",
      "459/459 [==============================] - 2s 5ms/step - loss: 1.8854 - val_loss: 9.7941\n",
      "Epoch 14/20\n",
      "459/459 [==============================] - 2s 5ms/step - loss: 1.6931 - val_loss: 9.2612\n",
      "Epoch 15/20\n",
      "459/459 [==============================] - 2s 5ms/step - loss: 1.5425 - val_loss: 10.3293\n",
      "Epoch 16/20\n",
      "459/459 [==============================] - 2s 5ms/step - loss: 1.5063 - val_loss: 6.3620\n",
      "Epoch 17/20\n",
      "459/459 [==============================] - 2s 5ms/step - loss: 1.4465 - val_loss: 13.4759\n",
      "Epoch 18/20\n",
      "459/459 [==============================] - 2s 5ms/step - loss: 1.2972 - val_loss: 10.9005\n",
      "Epoch 19/20\n",
      "459/459 [==============================] - 2s 5ms/step - loss: 1.2317 - val_loss: 11.4581\n",
      "Epoch 20/20\n",
      "459/459 [==============================] - 2s 5ms/step - loss: 1.2171 - val_loss: 9.3890\n"
     ]
    },
    {
     "data": {
      "image/png": "[encoded data removed]",
      "text/plain": [
       "<Figure size 432x288 with 1 Axes>"
      ]
     },
     "metadata": {
      "needs_background": "light",
      "tags": []
     },
     "output_type": "display_data"
    },
    {
     "name": "stdout",
     "output_type": "stream",
     "text": [
      "Evaluateing:\n",
      "64/64 [==============================] - 0s 3ms/step - loss: 4.1730\n"
     ]
    }
   ],
   "source": [
    "kf = KFold(shuffle = False, n_splits = FOLDS)\r\n",
    "for train_index, val_index in kf.split(X_train):\r\n",
    "    model = getModel()\r\n",
    "    print(\"Training on data of size:\", len(X_train[train_index]), \"Val size:\", len(X_train[val_index]))\r\n",
    "    \r\n",
    "    history = model.fit(X_train[train_index], Y_train[train_index], \r\n",
    "                        validation_data=(X_train[val_index], Y_train[val_index]), \r\n",
    "                        batch_size=BATCH_SIZE, epochs=EPOCHS, verbose=1, shuffle = SHUFFLE)\r\n",
    "    \r\n",
    "    plot(history)\r\n",
    "    \r\n",
    "    print(\"Evaluateing:\")\r\n",
    "    results = model.evaluate(X_test, Y_test, batch_size=BATCH_SIZE)\r\n",
    "    gc.collect()\r\n",
    "\r\n"
   ]
  },
  {
   "cell_type": "code",
   "execution_count": null,
   "metadata": {
    "id": "FuPAILqoe5vA"
   },
   "outputs": [],
   "source": [
    "\r\n"
   ]
  },
  {
   "cell_type": "code",
   "execution_count": null,
   "metadata": {
    "id": "oZz6P_kxMw4q"
   },
   "outputs": [],
   "source": [
    "# test_path = \"drive/MyDrive/Colab Notebooks/commaai/data/test.mp4\"\r\n",
    "# X = getImages(test_path)\r\n",
    "# X = X[:,:,:,[0,2]] #extract channels with data\r\n",
    "# predicted_speed = model.predict(X, verbose=1)"
   ]
  },
  {
   "cell_type": "code",
   "execution_count": null,
   "metadata": {
    "id": "aROcvM3UM769"
   },
   "outputs": [],
   "source": [
    "# with open(\"/content/test.txt\", \"w\") as f:\r\n",
    "#     for speed in predicted_speed:\r\n",
    "#         f.write(str(speed)+\"\\n\")"
   ]
  }
 ],
 "metadata": {
  "accelerator": "GPU",
  "colab": {
   "authorship_tag": "ABX9TyNTv2cydI3fbQHMAc2YUWxu",
   "collapsed_sections": [],
   "machine_shape": "hm",
   "name": "kfold_sandbox.ipynb",
   "provenance": []
  },
  "kernelspec": {
   "display_name": "Python 3",
   "language": "python",
   "name": "python3"
  },
  "language_info": {
   "codemirror_mode": {
    "name": "ipython",
    "version": 3
   },
   "file_extension": ".py",
   "mimetype": "text/x-python",
   "name": "python",
   "nbconvert_exporter": "python",
   "pygments_lexer": "ipython3",
   "version": "3.8.5"
  }
 },
 "nbformat": 4,
 "nbformat_minor": 4
}
