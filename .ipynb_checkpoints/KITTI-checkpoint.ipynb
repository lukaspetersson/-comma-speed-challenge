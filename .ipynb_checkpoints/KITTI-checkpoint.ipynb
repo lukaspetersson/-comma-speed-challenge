{
 "cells": [
  {
   "cell_type": "code",
   "execution_count": 1,
   "metadata": {
    "executionInfo": {
     "elapsed": 2824,
     "status": "ok",
     "timestamp": 1611698197537,
     "user": {
      "displayName": "Lukas Petersson",
      "photoUrl": "",
      "userId": "13708420744063103447"
     },
     "user_tz": -60
    },
    "id": "hjSFQIGX-Oir"
   },
   "outputs": [],
   "source": [
    "import numpy as np\r\n",
    "import cv2\r\n",
    "from google.colab import drive\r\n",
    "import gc\r\n",
    "import random\r\n",
    "from sklearn.model_selection import train_test_split\r\n",
    "from keras.preprocessing.image import array_to_img, load_img\r\n",
    "\r\n",
    "import os\r\n",
    "\r\n",
    "from keras.models import Sequential\r\n",
    "from keras.layers import Dropout, Flatten, Dense, Activation\r\n",
    "from keras.layers.convolutional import Conv2D , MaxPooling2D\r\n",
    "import matplotlib.pyplot as plt\r\n",
    "%matplotlib inline"
   ]
  },
  {
   "cell_type": "code",
   "execution_count": 2,
   "metadata": {
    "executionInfo": {
     "elapsed": 2807,
     "status": "ok",
     "timestamp": 1611698197539,
     "user": {
      "displayName": "Lukas Petersson",
      "photoUrl": "",
      "userId": "13708420744063103447"
     },
     "user_tz": -60
    },
    "id": "6AKr6u5E-a6N"
   },
   "outputs": [],
   "source": [
    "# constants\r\n",
    "IMG_DIM = (100,100)\r\n",
    "EPOCHS = 2\r\n",
    "BATCH_SIZE = 32\r\n",
    "VAL_SPLIT = 0.2\r\n",
    "SHUFFLE = True"
   ]
  },
  {
   "cell_type": "code",
   "execution_count": 3,
   "metadata": {
    "colab": {
     "base_uri": "https://localhost:8080/"
    },
    "executionInfo": {
     "elapsed": 2799,
     "status": "ok",
     "timestamp": 1611698197541,
     "user": {
      "displayName": "Lukas Petersson",
      "photoUrl": "",
      "userId": "13708420744063103447"
     },
     "user_tz": -60
    },
    "id": "1UCfXmHo-cfe",
    "outputId": "c4c98d3c-323f-48ac-8337-db1b8daac54d"
   },
   "outputs": [
    {
     "name": "stdout",
     "output_type": "stream",
     "text": [
      "Drive already mounted at /content/drive/; to attempt to forcibly remount, call drive.mount(\"/content/drive/\", force_remount=True).\n"
     ]
    }
   ],
   "source": [
    "drive.mount('/content/drive/')\r\n",
    "root = \"drive/MyDrive/Colab Notebooks/commaai/data/KITTI/\""
   ]
  },
  {
   "cell_type": "code",
   "execution_count": 4,
   "metadata": {
    "colab": {
     "base_uri": "https://localhost:8080/"
    },
    "executionInfo": {
     "elapsed": 2790,
     "status": "ok",
     "timestamp": 1611698197542,
     "user": {
      "displayName": "Lukas Petersson",
      "photoUrl": "",
      "userId": "13708420744063103447"
     },
     "user_tz": -60
    },
    "id": "XUEA8BT--rKL",
    "outputId": "a7e541a9-bdad-49a0-dacc-4b3f20388860"
   },
   "outputs": [
    {
     "data": {
      "text/plain": [
       "37"
      ]
     },
     "execution_count": 4,
     "metadata": {
      "tags": []
     },
     "output_type": "execute_result"
    }
   ],
   "source": [
    "# image prep functions\r\n",
    "DIM_BEFORE_OPT = (630,210)\r\n",
    "\r\n",
    "def opticalFlow(frame1,frame2):\r\n",
    "    frame1 = frame1[0:375, 59:1184]\r\n",
    "    frame2 = frame2[0:375, 59:1184]\r\n",
    "    frame1 = cv2.resize(frame1, DIM_BEFORE_OPT, interpolation = cv2.INTER_AREA)\r\n",
    "    frame2 = cv2.resize(frame2, DIM_BEFORE_OPT, interpolation = cv2.INTER_AREA)\r\n",
    "    flow = np.zeros_like(frame1)\r\n",
    "    prev = cv2.cvtColor(frame1,cv2.COLOR_BGR2GRAY)\r\n",
    "    next = cv2.cvtColor(frame2,cv2.COLOR_BGR2GRAY)\r\n",
    "    flow_data = cv2.calcOpticalFlowFarneback(prev, next, None, 0.4, 1, 12, 2, 8, 1.2, 0)\r\n",
    "    mag, ang = cv2.cartToPolar(flow_data[...,0], flow_data[...,1])\r\n",
    "    flow[...,1] = 255\r\n",
    "    flow[...,0] = ang*180/np.pi/2\r\n",
    "    flow[...,2] = (mag *15).astype(int)\r\n",
    "    return flow\r\n",
    "\r\n",
    "# def getTestImages(path):\r\n",
    "#     images = []\r\n",
    "#     cap = cv2.VideoCapture(path)\r\n",
    "#     ret, prev = cap.read()\r\n",
    "#     while True:\r\n",
    "#         ret, next  = cap.read()\r\n",
    "#         if not ret:\r\n",
    "#             break\r\n",
    "#         flow = opticalFlow(prev,next)\r\n",
    "#         flow = cv2.resize(flow, IMG_DIM, interpolation = cv2.INTER_AREA)\r\n",
    "#         images.append(flow/127.5 - 1)\r\n",
    "#         prev = next\r\n",
    "#     images = np.array(images)\r\n",
    "#     return images\r\n",
    "\r\n",
    "def getImages(path, size):\r\n",
    "    images = []\r\n",
    "    prev = cv2.imread(path+\"0000000000.png\")\r\n",
    "    for i in range(1, size):\r\n",
    "        fn = str(i).zfill(10)+\".png\"\r\n",
    "        next = cv2.imread(path+fn)\r\n",
    "        flow = opticalFlow(prev,next)\r\n",
    "        flow = cv2.resize(flow, IMG_DIM, interpolation = cv2.INTER_AREA)\r\n",
    "        images.append(flow/127.5 - 1)\r\n",
    "        prev = next\r\n",
    "    images = np.array(images)\r\n",
    "    return images\r\n",
    "    \r\n",
    "gc.collect()"
   ]
  },
  {
   "cell_type": "code",
   "execution_count": 5,
   "metadata": {
    "colab": {
     "base_uri": "https://localhost:8080/"
    },
    "executionInfo": {
     "elapsed": 2782,
     "status": "ok",
     "timestamp": 1611698197543,
     "user": {
      "displayName": "Lukas Petersson",
      "photoUrl": "",
      "userId": "13708420744063103447"
     },
     "user_tz": -60
    },
    "id": "StNHIUJT-uk4",
    "outputId": "7b830fc0-2462-4409-bbd2-30e81ff2db9b"
   },
   "outputs": [
    {
     "data": {
      "text/plain": [
       "22"
      ]
     },
     "execution_count": 5,
     "metadata": {
      "tags": []
     },
     "output_type": "execute_result"
    }
   ],
   "source": [
    "def getModel():\r\n",
    "    model = Sequential()\r\n",
    "    model.add(Conv2D(filters=24, kernel_size=(5, 5), strides=(2, 2),activation='relu'))\r\n",
    "    model.add(Conv2D(filters=36, kernel_size=(5, 5),strides=(2, 2), activation='relu'))\r\n",
    "    model.add(Conv2D(filters=48, kernel_size=(5, 5), strides=(2, 2),activation='relu'))\r\n",
    "    model.add(Conv2D(filters=64, kernel_size=(3, 3) ,activation='relu'))\r\n",
    "    model.add(Conv2D(filters=64, kernel_size=(3, 3),activation='relu'))\r\n",
    "    model.add(Dropout(0.5))\r\n",
    "    model.add(Flatten())\r\n",
    "    model.add(Dense(units=100, activation='relu'))\r\n",
    "    model.add(Dense(units=50, activation='relu'))\r\n",
    "    model.add(Dense(units=10, activation='relu'))\r\n",
    "    model.add(Dense(units=1))\r\n",
    "\r\n",
    "    model.compile(loss='mse',optimizer='adam')\r\n",
    "    return model\r\n",
    "    \r\n",
    "gc.collect()"
   ]
  },
  {
   "cell_type": "code",
   "execution_count": 6,
   "metadata": {
    "colab": {
     "base_uri": "https://localhost:8080/"
    },
    "executionInfo": {
     "elapsed": 3301,
     "status": "ok",
     "timestamp": 1611698198072,
     "user": {
      "displayName": "Lukas Petersson",
      "photoUrl": "",
      "userId": "13708420744063103447"
     },
     "user_tz": -60
    },
    "id": "3kurKCps-yoe",
    "outputId": "400ccd55-9304-45c5-8a29-917abf9f3a00"
   },
   "outputs": [
    {
     "data": {
      "text/plain": [
       "22"
      ]
     },
     "execution_count": 6,
     "metadata": {
      "tags": []
     },
     "output_type": "execute_result"
    }
   ],
   "source": [
    "def plot(history):\r\n",
    "    plt.subplot(1, 2, 2)\r\n",
    "    plt.plot(history.history['loss'])\r\n",
    "    plt.plot(history.history['val_loss'])\r\n",
    "    plt.legend(['training', 'validation'])\r\n",
    "    plt.title('Loss')\r\n",
    "    plt.xlabel('Epoch')\r\n",
    "    plt.show()\r\n",
    "gc.collect()"
   ]
  },
  {
   "cell_type": "code",
   "execution_count": 7,
   "metadata": {
    "colab": {
     "base_uri": "https://localhost:8080/"
    },
    "executionInfo": {
     "elapsed": 3293,
     "status": "ok",
     "timestamp": 1611698198074,
     "user": {
      "displayName": "Lukas Petersson",
      "photoUrl": "",
      "userId": "13708420744063103447"
     },
     "user_tz": -60
    },
    "id": "4J3LLKcr-0dB",
    "outputId": "b00d253c-01d9-476e-d12a-74460c7bcb1f"
   },
   "outputs": [
    {
     "data": {
      "text/plain": [
       "41"
      ]
     },
     "execution_count": 7,
     "metadata": {
      "tags": []
     },
     "output_type": "execute_result"
    }
   ],
   "source": [
    "def getLabels(path):\r\n",
    "    labels = []\r\n",
    "    f = open(path,'r')\r\n",
    "    for l in f:\r\n",
    "        labels.append(float(l))\r\n",
    "    labels = np.array(labels)\r\n",
    "    return labels\r\n",
    "gc.collect()"
   ]
  },
  {
   "cell_type": "code",
   "execution_count": 8,
   "metadata": {
    "executionInfo": {
     "elapsed": 3285,
     "status": "ok",
     "timestamp": 1611698198075,
     "user": {
      "displayName": "Lukas Petersson",
      "photoUrl": "",
      "userId": "13708420744063103447"
     },
     "user_tz": -60
    },
    "id": "z739TTxtrtdl"
   },
   "outputs": [],
   "source": [
    "def clacMSE(pred):\r\n",
    "    mse = 0\r\n",
    "    for i, v in enumerate(pred):\r\n",
    "        mse +=  (Y_main[i] - v) * (Y_main[i] - v)\r\n",
    "    mse /= len(Y_main)\r\n",
    "    return mse"
   ]
  },
  {
   "cell_type": "code",
   "execution_count": 9,
   "metadata": {
    "executionInfo": {
     "elapsed": 3279,
     "status": "ok",
     "timestamp": 1611698198076,
     "user": {
      "displayName": "Lukas Petersson",
      "photoUrl": "",
      "userId": "13708420744063103447"
     },
     "user_tz": -60
    },
    "id": "rpF-QRHYrweo"
   },
   "outputs": [],
   "source": [
    "def rollingMean(mylist):\r\n",
    "    if isinstance(mylist, np.ndarray):\r\n",
    "        mylist = mylist.tolist()\r\n",
    "    avrg = []\r\n",
    "\r\n",
    "    first = 0\r\n",
    "    for i in range(ROLLING_MEAN):\r\n",
    "        first += (mylist[max(i-ROLLING_MEAN//2, 0)] / ROLLING_MEAN)\r\n",
    "    avrg.append(first)\r\n",
    "    \r\n",
    "    for i in range(1, len(mylist)):\r\n",
    "        last = avrg[i-1] * ROLLING_MEAN\r\n",
    "        past = mylist[max(i-1-ROLLING_MEAN//2, 0)]\r\n",
    "        new =  mylist[min(i+ROLLING_MEAN//2, len(mylist)-1)]\r\n",
    "        avrg.append((last - past + new)/ROLLING_MEAN)\r\n",
    "    return np.array(avrg)"
   ]
  },
  {
   "cell_type": "code",
   "execution_count": 10,
   "metadata": {
    "executionInfo": {
     "elapsed": 3263,
     "status": "ok",
     "timestamp": 1611698198076,
     "user": {
      "displayName": "Lukas Petersson",
      "photoUrl": "",
      "userId": "13708420744063103447"
     },
     "user_tz": -60
    },
    "id": "pCUu6MfI-2g9"
   },
   "outputs": [],
   "source": [
    "# X_path = \"drive/MyDrive/Colab Notebooks/commaai/data/train.mp4\"\r\n",
    "# Y_path = \"drive/MyDrive/Colab Notebooks/commaai/data/train.txt\"\r\n",
    "\r\n",
    "# Y_test = getLabels(Y_path)[:-1]\r\n",
    "# X_test = getTestImages(X_path)\r\n",
    "# X_test = X_test[:,:,:,[0,2]]\r\n",
    "\r\n",
    "\r\n",
    "# gc.collect()"
   ]
  },
  {
   "cell_type": "code",
   "execution_count": 10,
   "metadata": {
    "executionInfo": {
     "elapsed": 3246,
     "status": "ok",
     "timestamp": 1611698198077,
     "user": {
      "displayName": "Lukas Petersson",
      "photoUrl": "",
      "userId": "13708420744063103447"
     },
     "user_tz": -60
    },
    "id": "lZJO3-fNrsxy"
   },
   "outputs": [],
   "source": []
  },
  {
   "cell_type": "code",
   "execution_count": 11,
   "metadata": {
    "executionInfo": {
     "elapsed": 3240,
     "status": "ok",
     "timestamp": 1611698198078,
     "user": {
      "displayName": "Lukas Petersson",
      "photoUrl": "",
      "userId": "13708420744063103447"
     },
     "user_tz": -60
    },
    "id": "wF_08T1o_Ex6"
   },
   "outputs": [],
   "source": [
    "predictions = []\r\n",
    "predictions_mean = []\r\n",
    "def trainModel(X, Y):\r\n",
    "    history = model.fit(X, Y, \r\n",
    "                        validation_split=VAL_SPLIT, \r\n",
    "                        batch_size=BATCH_SIZE, \r\n",
    "                        epochs=EPOCHS, \r\n",
    "                        shuffle = SHUFFLE,\r\n",
    "                        verbose=2)\r\n",
    "            \r\n",
    "    plot(history)\r\n",
    "    \r\n",
    "    # print(\"Evaluating: \")\r\n",
    "    # model.evaluate(X_test, Y_test, batch_size=BATCH_SIZE)\r\n",
    "\r\n",
    "    # results = model.predict(X_test, batch_size=BATCH_SIZE)\r\n",
    "    # print(\"1\", type(results), type(results[0]))\r\n",
    "    # results = results.flatten()\r\n",
    "    # print(\"2\", type(results), type(results[0]))\r\n",
    "    # results_mean = rollingMean(results)\r\n",
    "    # print(\"3\", type(results_mean), type(results_mean[0]))\r\n",
    "    # print(\"MSE clac: \")\r\n",
    "    # print(clacMSE(results))\r\n",
    "    # print(\"MSE mean clac: \")\r\n",
    "    # print(clacMSE(results_mean))\r\n",
    "\r\n",
    "    # predictions.append(results)\r\n",
    "    # predictions_mean.append(results_mean)\r\n",
    "    # print(\"Mean of results: \",results.mean())\r\n",
    "    # print(\"Mean of results with rolling mean: \",results_mean.mean())\r\n",
    "    # print(\"Mean of training data: \",Y.mean())"
   ]
  },
  {
   "cell_type": "code",
   "execution_count": 12,
   "metadata": {
    "executionInfo": {
     "elapsed": 3233,
     "status": "ok",
     "timestamp": 1611698198078,
     "user": {
      "displayName": "Lukas Petersson",
      "photoUrl": "",
      "userId": "13708420744063103447"
     },
     "user_tz": -60
    },
    "id": "UfivSxf8EJN5"
   },
   "outputs": [],
   "source": [
    "#going through 1 file per label is expensive, save results in another file\r\n",
    "def saveLabels(folder_id, size):\r\n",
    "    speeds = []\r\n",
    "    for i in range(size):\r\n",
    "        fn = str(i).zfill(10)+\".txt\"\r\n",
    "        f = open(root + folder_id + \"/oxts/data/\"+fn, \"r\")\r\n",
    "        speed = f.read().split()[8]\r\n",
    "        speeds.append(speed)\r\n",
    "    with open(root+ folder_id + \"/labels.txt\", \"w\") as f:\r\n",
    "        for speed in speeds:\r\n",
    "            f.write(str(speed)+\"\\n\")\r\n"
   ]
  },
  {
   "cell_type": "code",
   "execution_count": 13,
   "metadata": {
    "colab": {
     "base_uri": "https://localhost:8080/",
     "height": 1000
    },
    "executionInfo": {
     "elapsed": 28932395,
     "status": "ok",
     "timestamp": 1611727127252,
     "user": {
      "displayName": "Lukas Petersson",
      "photoUrl": "",
      "userId": "13708420744063103447"
     },
     "user_tz": -60
    },
    "id": "RH0ojdmgDEFt",
    "outputId": "33e5dec3-c9a2-4899-b4ae-752f90b413df"
   },
   "outputs": [
    {
     "name": "stdout",
     "output_type": "stream",
     "text": [
      "In dir: drive/MyDrive/Colab Notebooks/commaai/data/KITTI/2011_09_26_drive_0064_sync\n",
      "lenght: 569\n",
      "In dir: drive/MyDrive/Colab Notebooks/commaai/data/KITTI/2011_09_30_drive_0033_sync\n",
      "lenght: 2162\n",
      "In dir: drive/MyDrive/Colab Notebooks/commaai/data/KITTI/2011_09_30_drive_0028_sync\n",
      "lenght: 7338\n",
      "In dir: drive/MyDrive/Colab Notebooks/commaai/data/KITTI/2011_09_26_drive_0059_sync\n",
      "lenght: 7710\n",
      "In dir: drive/MyDrive/Colab Notebooks/commaai/data/KITTI/2011_10_03_drive_0027_sync\n",
      "lenght: 12253\n",
      "Epoch 1/2\n",
      "307/307 - 7s - loss: 9.8320 - val_loss: 2.5392\n",
      "Epoch 2/2\n",
      "307/307 - 1s - loss: 2.7512 - val_loss: 1.5646\n"
     ]
    },
    {
     "data": {
      "image/png": "[encoded data removed]",
      "text/plain": [
       "<Figure size 432x288 with 1 Axes>"
      ]
     },
     "metadata": {
      "needs_background": "light",
      "tags": []
     },
     "output_type": "display_data"
    },
    {
     "name": "stdout",
     "output_type": "stream",
     "text": [
      "In dir: drive/MyDrive/Colab Notebooks/commaai/data/KITTI/2011_09_26_drive_0052_sync\n",
      "lenght: 77\n",
      "In dir: drive/MyDrive/Colab Notebooks/commaai/data/KITTI/2011_10_03_drive_0042_sync\n",
      "lenght: 1246\n",
      "In dir: drive/MyDrive/Colab Notebooks/commaai/data/KITTI/2011_09_28_drive_0002_sync\n",
      "lenght: 1621\n",
      "In dir: drive/MyDrive/Colab Notebooks/commaai/data/KITTI/2011_09_26_drive_0057_sync\n",
      "lenght: 1981\n",
      "In dir: drive/MyDrive/Colab Notebooks/commaai/data/KITTI/2011_09_26_drive_0061_sync\n",
      "lenght: 2683\n",
      "In dir: drive/MyDrive/Colab Notebooks/commaai/data/KITTI/2011_09_26_drive_0009_sync\n",
      "lenght: 3129\n",
      "In dir: drive/MyDrive/Colab Notebooks/commaai/data/KITTI/2011_09_26_drive_0051_sync\n",
      "lenght: 3566\n",
      "In dir: drive/MyDrive/Colab Notebooks/commaai/data/KITTI/2011_09_26_drive_0022_sync\n",
      "lenght: 4365\n",
      "In dir: drive/MyDrive/Colab Notebooks/commaai/data/KITTI/2011_09_26_drive_0014_sync\n",
      "lenght: 4678\n",
      "In dir: drive/MyDrive/Colab Notebooks/commaai/data/KITTI/2011_09_26_drive_0086_sync\n",
      "lenght: 5383\n",
      "In dir: drive/MyDrive/Colab Notebooks/commaai/data/KITTI/2011_09_26_drive_0087_sync\n",
      "lenght: 6111\n",
      "In dir: drive/MyDrive/Colab Notebooks/commaai/data/KITTI/2011_09_30_drive_0018_sync\n",
      "lenght: 8872\n",
      "In dir: drive/MyDrive/Colab Notebooks/commaai/data/KITTI/2011_09_30_drive_0034_sync\n",
      "lenght: 10095\n",
      "Epoch 1/2\n",
      "253/253 - 1s - loss: 8.7611 - val_loss: 4.5652\n",
      "Epoch 2/2\n",
      "253/253 - 1s - loss: 3.6045 - val_loss: 4.1811\n"
     ]
    },
    {
     "data": {
      "image/png": "[encoded data removed]",
      "text/plain": [
       "<Figure size 432x288 with 1 Axes>"
      ]
     },
     "metadata": {
      "needs_background": "light",
      "tags": []
     },
     "output_type": "display_data"
    },
    {
     "name": "stdout",
     "output_type": "stream",
     "text": [
      "In dir: drive/MyDrive/Colab Notebooks/commaai/data/KITTI/2011_09_30_drive_0027_sync\n",
      "lenght: 1105\n",
      "In dir: drive/MyDrive/Colab Notebooks/commaai/data/KITTI/2011_10_03_drive_0034_sync\n",
      "lenght: 5767\n",
      "Epoch 1/2\n",
      "145/145 - 1s - loss: 2.9807 - val_loss: 1.8079\n",
      "Epoch 2/2\n",
      "145/145 - 1s - loss: 1.7638 - val_loss: 1.2135\n"
     ]
    },
    {
     "data": {
      "image/png": "[encoded data removed]",
      "text/plain": [
       "<Figure size 432x288 with 1 Axes>"
      ]
     },
     "metadata": {
      "needs_background": "light",
      "tags": []
     },
     "output_type": "display_data"
    }
   ],
   "source": [
    "X = np.array([]).reshape(0, IMG_DIM[0], IMG_DIM[1], 2)\r\n",
    "Y = np.array([])\r\n",
    "\r\n",
    "model = getModel()\r\n",
    "\r\n",
    "\r\n",
    "for folder_id in os.listdir(root):\r\n",
    "    print(\"In dir:\", root + folder_id)\r\n",
    "    X_path = root + folder_id + \"/image_03/data/\"\r\n",
    "    Y_path = root + folder_id + \"/labels.txt\"\r\n",
    "    num_photos = len(os.listdir(X_path))\r\n",
    "\r\n",
    "    X_batch = getImages(X_path, num_photos)\r\n",
    "    X_batch = X_batch[:,:,:,[0,2]]\r\n",
    "\r\n",
    "\r\n",
    "    if not os.path.isfile(Y_path):\r\n",
    "        saveLabels(folder_id, num_photos)\r\n",
    "    Y_batch = getLabels(Y_path)[:-1]\r\n",
    "    #double the speed because fps is half (10 not 20)\r\n",
    "    #Y_batch *= 2\r\n",
    "    Y_batch = Y_batch[:len(X_batch)]\r\n",
    "\r\n",
    "    if len(Y_batch) == len(X_batch):\r\n",
    "        X = np.concatenate((X, X_batch))\r\n",
    "        Y = np.concatenate((Y, Y_batch))\r\n",
    "    print(\"lenght:\", len(X))\r\n",
    "    if len(X) > 9400:\r\n",
    "        trainModel(X,Y)\r\n",
    "        X = np.array([]).reshape(0, IMG_DIM[0], IMG_DIM[1], 2)\r\n",
    "        Y = np.array([])\r\n",
    "\r\n",
    "trainModel(X,Y)\r\n",
    "\r\n",
    "        \r\n"
   ]
  },
  {
   "cell_type": "code",
   "execution_count": 14,
   "metadata": {
    "executionInfo": {
     "elapsed": 28932392,
     "status": "ok",
     "timestamp": 1611727127259,
     "user": {
      "displayName": "Lukas Petersson",
      "photoUrl": "",
      "userId": "13708420744063103447"
     },
     "user_tz": -60
    },
    "id": "YDZd_5xIBLkr"
   },
   "outputs": [],
   "source": [
    "model.save(\"drive/MyDrive/Colab Notebooks/commaai/model_only_kitti.h5\")"
   ]
  }
 ],
 "metadata": {
  "accelerator": "GPU",
  "colab": {
   "authorship_tag": "ABX9TyNW7EZKCI/F9z7MbYscrRGh",
   "collapsed_sections": [],
   "machine_shape": "hm",
   "name": "KITTI.ipynb",
   "provenance": []
  },
  "kernelspec": {
   "display_name": "Python 3",
   "language": "python",
   "name": "python3"
  },
  "language_info": {
   "codemirror_mode": {
    "name": "ipython",
    "version": 3
   },
   "file_extension": ".py",
   "mimetype": "text/x-python",
   "name": "python",
   "nbconvert_exporter": "python",
   "pygments_lexer": "ipython3",
   "version": "3.8.5"
  }
 },
 "nbformat": 4,
 "nbformat_minor": 4
}
