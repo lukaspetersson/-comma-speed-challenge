{
 "cells": [
  {
   "cell_type": "code",
   "execution_count": 1,
   "metadata": {},
   "outputs": [],
   "source": [
    "import numpy as np\n",
    "import matplotlib.pyplot as plt\n",
    "from keras.preprocessing.image import load_img, img_to_array, array_to_img\n",
    "%matplotlib inline\n",
    "\n",
    "from keras.layers import Conv2D, MaxPooling2D, Flatten, Dense, Dropout, InputLayer, Activation, Input\n",
    "from keras.models import Sequential\n",
    "from keras import optimizers\n",
    "\n",
    "np.random.seed(42)"
   ]
  },
  {
   "cell_type": "code",
   "execution_count": 2,
   "metadata": {},
   "outputs": [],
   "source": [
    "# Create arrays with filenames and lables\n",
    "inFile = open(\"C:/Users/Lukas/Desktop/commaai-speed-challenge/data/train-of.txt\", \"r\")\n",
    "\n",
    "all_images = []\n",
    "all_labels = []\n",
    "for i, v in enumerate(inFile):\n",
    "    all_images.append(str(i)+\".jpg\")\n",
    "    all_labels.append(float(v))"
   ]
  },
  {
   "cell_type": "code",
   "execution_count": 3,
   "metadata": {},
   "outputs": [],
   "source": [
    "train_images, val_images, test_images = all_images[: 14280], all_images[14280 : 18360], all_images[18360 :]\n",
    "train_labels, val_labels, test_labels = all_labels[: 14280], all_labels[14280 : 18360], all_labels[18360 :]"
   ]
  },
  {
   "cell_type": "code",
   "execution_count": 4,
   "metadata": {},
   "outputs": [],
   "source": [
    "import random\n",
    "\n",
    "rand_train = list(zip(train_images, train_labels))\n",
    "random.shuffle(rand_train)\n",
    "train_images, train_labels = zip(*rand_train)\n",
    "\n",
    "rand_val = list(zip(val_images, val_labels))\n",
    "random.shuffle(rand_val)\n",
    "val_images, val_labels = zip(*rand_val)\n",
    "\n",
    "test_rand = list(zip(test_images, test_labels))\n",
    "random.shuffle(test_rand)\n",
    "test_images, test_labels = zip(*test_rand)"
   ]
  },
  {
   "cell_type": "code",
   "execution_count": 5,
   "metadata": {},
   "outputs": [],
   "source": [
    "train_images = np.array(train_images)\n",
    "train_labels = np.array(train_labels)\n",
    "\n",
    "val_images = np.array(val_images)\n",
    "val_labels = np.array(val_labels)\n",
    "\n",
    "test_images = np.array(test_images)\n",
    "test_labels = np.array(test_labels)"
   ]
  },
  {
   "cell_type": "code",
   "execution_count": 6,
   "metadata": {},
   "outputs": [
    {
     "name": "stdout",
     "output_type": "stream",
     "text": [
      "Train dataset shape: (14280, 150, 150, 3) \tValidation dataset shape: (4080, 150, 150, 3) \tTest dataset shape: (2038, 150, 150, 3)\n"
     ]
    }
   ],
   "source": [
    "IMG_DIM = (150, 150)\n",
    "\n",
    "train_images_array = [img_to_array(load_img(\"C:/Users/Lukas/Desktop/commaai-speed-challenge/data/frames/train-of/\"+img, target_size=IMG_DIM)) for img in train_images]\n",
    "train_images_array = np.array(train_images_array)\n",
    "\n",
    "val_images_array = [img_to_array(load_img(\"C:/Users/Lukas/Desktop/commaai-speed-challenge/data/frames/train-of/\"+img, target_size=IMG_DIM)) for img in val_images]\n",
    "val_images_array = np.array(val_images_array)\n",
    "\n",
    "test_images_array = [img_to_array(load_img(\"C:/Users/Lukas/Desktop/commaai-speed-challenge/data/frames/train-of/\"+img, target_size=IMG_DIM)) for img in test_images]\n",
    "test_images_array = np.array(test_images_array)\n",
    "\n",
    "print('Train dataset shape:', train_images_array.shape, '\\tValidation dataset shape:', val_images_array.shape, '\\tTest dataset shape:', test_images_array.shape)\n"
   ]
  },
  {
   "cell_type": "code",
   "execution_count": 7,
   "metadata": {},
   "outputs": [
    {
     "name": "stdout",
     "output_type": "stream",
     "text": [
      "(150, 150, 3)\n"
     ]
    },
    {
     "data": {
      "image/png": "[encoded data removed]",
      "text/plain": [
       "<PIL.Image.Image image mode=RGB size=150x150 at 0x14A985973A0>"
      ]
     },
     "execution_count": 7,
     "metadata": {},
     "output_type": "execute_result"
    }
   ],
   "source": [
    "train_imgs_scaled = train_images_array.astype('float32')\n",
    "val_imgs_scaled  = val_images_array.astype('float32')\n",
    "test_imgs_scaled  = test_images_array.astype('float32')\n",
    "train_imgs_scaled /= 255\n",
    "val_imgs_scaled /= 255\n",
    "test_imgs_scaled /= 255\n",
    "\n",
    "print(train_images_array[0].shape)\n",
    "array_to_img(train_images_array[0])"
   ]
  },
  {
   "cell_type": "code",
   "execution_count": 8,
   "metadata": {},
   "outputs": [],
   "source": [
    "batch_size = 24\n",
    "epochs = 15\n",
    "input_shape = (150, 150, 3)"
   ]
  },
  {
   "cell_type": "code",
   "execution_count": 2,
   "metadata": {},
   "outputs": [],
   "source": [
    "model = Sequential()\n",
    "\n",
    "model.add(Conv2D(32, (8, 8), (4,4), 'same'))\n",
    "model.add(Activation('relu'))\n",
    "\n",
    "model.add(Conv2D(64, (8, 8), (4,4), 'same'))\n",
    "model.add(Activation('relu'))\n",
    "\n",
    "model.add(Conv2D(128, (4, 4), (2,2), 'same'))\n",
    "model.add(Activation('relu'))\n",
    "\n",
    "model.add(Conv2D(128, (2, 2), (1,1), 'same'))\n",
    "model.add(Activation('relu'))\n",
    "\n",
    "model.add(Flatten())\n",
    "\n",
    "model.add(Dropout(0.5))\n",
    "\n",
    "model.add(Dense(128))\n",
    "model.add(Activation('relu'))\n",
    "\n",
    "model.add(Dropout(0.5))\n",
    "\n",
    "model.add(Dense(128))\n",
    "\n",
    "model.add(Dropout(0.5))\n",
    "\n",
    "model.add(Dense(1))\n",
    "\n",
    "model.compile(optimizer=optimizers.Adam(lr=1e-04), loss='mean_squared_error')"
   ]
  },
  {
   "cell_type": "code",
   "execution_count": 10,
   "metadata": {},
   "outputs": [
    {
     "name": "stdout",
     "output_type": "stream",
     "text": [
      "Epoch 1/15\n",
      "595/595 [==============================] - 710s 1s/step - loss: 52.0099 - val_loss: 53.2150\n",
      "Epoch 2/15\n",
      "595/595 [==============================] - 685s 1s/step - loss: 10.6426 - val_loss: 70.8483\n",
      "Epoch 3/15\n",
      "595/595 [==============================] - 712s 1s/step - loss: 8.6838 - val_loss: 58.2885\n",
      "Epoch 4/15\n",
      "595/595 [==============================] - 688s 1s/step - loss: 7.5934 - val_loss: 78.6964\n",
      "Epoch 5/15\n",
      "595/595 [==============================] - 700s 1s/step - loss: 6.8201 - val_loss: 73.2870\n",
      "Epoch 6/15\n",
      "595/595 [==============================] - 698s 1s/step - loss: 6.4517 - val_loss: 60.5994\n",
      "Epoch 7/15\n",
      "595/595 [==============================] - 715s 1s/step - loss: 5.9462 - val_loss: 55.2727\n",
      "Epoch 8/15\n",
      "595/595 [==============================] - 680s 1s/step - loss: 5.4482 - val_loss: 53.3601\n",
      "Epoch 9/15\n",
      "595/595 [==============================] - 681s 1s/step - loss: 5.2945 - val_loss: 68.5017\n",
      "Epoch 10/15\n",
      "595/595 [==============================] - 681s 1s/step - loss: 4.8899 - val_loss: 75.8050\n",
      "Epoch 11/15\n",
      "595/595 [==============================] - 673s 1s/step - loss: 4.5980 - val_loss: 61.8179\n",
      "Epoch 12/15\n",
      "595/595 [==============================] - 564s 947ms/step - loss: 4.4601 - val_loss: 72.1720\n",
      "Epoch 13/15\n",
      "595/595 [==============================] - 575s 966ms/step - loss: 4.3001 - val_loss: 74.1193\n",
      "Epoch 14/15\n",
      "595/595 [==============================] - 557s 936ms/step - loss: 4.1150 - val_loss: 67.5208\n",
      "Epoch 15/15\n",
      "595/595 [==============================] - 541s 909ms/step - loss: 3.7987 - val_loss: 62.5736\n"
     ]
    }
   ],
   "source": [
    "history = model.fit(x=train_imgs_scaled, y=train_labels,\n",
    "                    validation_data=(val_imgs_scaled, val_labels),\n",
    "                    batch_size=batch_size,\n",
    "                    epochs=epochs,\n",
    "                    verbose=1)"
   ]
  },
  {
   "cell_type": "code",
   "execution_count": 11,
   "metadata": {},
   "outputs": [
    {
     "data": {
      "image/png": "[encoded data removed]",
      "text/plain": [
       "<Figure size 432x288 with 1 Axes>"
      ]
     },
     "metadata": {
      "needs_background": "light"
     },
     "output_type": "display_data"
    }
   ],
   "source": [
    "loss = history.history['loss']\n",
    "val_loss = history.history['val_loss']\n",
    "\n",
    "epochs_range = range(epochs)\n",
    "\n",
    "plt.subplot(1, 2, 2)\n",
    "plt.plot(epochs_range, loss, label='Training Loss')\n",
    "plt.plot(epochs_range, val_loss, label='Validation Loss')\n",
    "plt.legend(loc='upper right')\n",
    "plt.title('Training and Validation Loss')\n",
    "plt.show()"
   ]
  },
  {
   "cell_type": "code",
   "execution_count": 12,
   "metadata": {},
   "outputs": [
    {
     "name": "stdout",
     "output_type": "stream",
     "text": [
      "85/85 [==============================] - 20s 226ms/step - loss: 57.0899\n"
     ]
    }
   ],
   "source": [
    "results = model.evaluate(test_imgs_scaled, test_labels, batch_size=batch_size)\n"
   ]
  }
 ],
 "metadata": {
  "kernelspec": {
   "display_name": "Python 3",
   "language": "python",
   "name": "python3"
  },
  "language_info": {
   "codemirror_mode": {
    "name": "ipython",
    "version": 3
   },
   "file_extension": ".py",
   "mimetype": "text/x-python",
   "name": "python",
   "nbconvert_exporter": "python",
   "pygments_lexer": "ipython3",
   "version": "3.8.5"
  }
 },
 "nbformat": 4,
 "nbformat_minor": 4
}
