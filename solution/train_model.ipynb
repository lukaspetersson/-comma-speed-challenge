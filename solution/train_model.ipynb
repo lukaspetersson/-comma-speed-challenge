{
 "cells": [
  {
   "cell_type": "code",
   "execution_count": 1,
   "metadata": {},
   "outputs": [],
   "source": [
    "import numpy as np\n",
    "import matplotlib.pyplot as plt\n",
    "from keras.preprocessing.image import load_img, img_to_array, array_to_img\n",
    "%matplotlib inline\n",
    "\n",
    "from keras.layers import Conv2D, MaxPooling2D, Flatten, Dense, Dropout, InputLayer, Activation, Input\n",
    "from keras.models import Sequential\n",
    "from keras import optimizers\n",
    "\n",
    "np.random.seed(42)"
   ]
  },
  {
   "cell_type": "code",
   "execution_count": 2,
   "metadata": {},
   "outputs": [],
   "source": [
    "# Create arrays with filenames and lables\n",
    "inFile = open(\"C:/Users/Lukas/Desktop/commaai-speed-challenge/data/train-of.txt\", \"r\")\n",
    "\n",
    "all_images = []\n",
    "all_labels = []\n",
    "for i, v in enumerate(inFile):\n",
    "    all_images.append(str(i)+\".jpg\")\n",
    "    all_labels.append(float(v))"
   ]
  },
  {
   "cell_type": "code",
   "execution_count": 3,
   "metadata": {},
   "outputs": [],
   "source": [
    "train_images, val_images, test_images = all_images[: 14280], all_images[14280 : 18360], all_images[18360 :]\n",
    "train_labels, val_labels, test_labels = all_labels[: 14280], all_labels[14280 : 18360], all_labels[18360 :]"
   ]
  },
  {
   "cell_type": "code",
   "execution_count": 4,
   "metadata": {},
   "outputs": [],
   "source": [
    "import random\n",
    "\n",
    "rand_train = list(zip(train_images, train_labels))\n",
    "random.shuffle(rand_train)\n",
    "train_images, train_labels = zip(*rand_train)\n",
    "\n",
    "rand_val = list(zip(val_images, val_labels))\n",
    "random.shuffle(rand_val)\n",
    "val_images, val_labels = zip(*rand_val)\n",
    "\n",
    "test_rand = list(zip(test_images, test_labels))\n",
    "random.shuffle(test_rand)\n",
    "test_images, test_labels = zip(*test_rand)"
   ]
  },
  {
   "cell_type": "code",
   "execution_count": 5,
   "metadata": {},
   "outputs": [],
   "source": [
    "train_images = np.array(train_images)\n",
    "train_labels = np.array(train_labels)\n",
    "\n",
    "val_images = np.array(val_images)\n",
    "val_labels = np.array(val_labels)\n",
    "\n",
    "test_images = np.array(test_images)\n",
    "test_labels = np.array(test_labels)"
   ]
  },
  {
   "cell_type": "code",
   "execution_count": 6,
   "metadata": {},
   "outputs": [
    {
     "name": "stdout",
     "output_type": "stream",
     "text": [
      "Train dataset shape: (14280, 150, 150, 3) \tValidation dataset shape: (4080, 150, 150, 3) \tTest dataset shape: (2038, 150, 150, 3)\n"
     ]
    }
   ],
   "source": [
    "IMG_DIM = (150, 150)\n",
    "\n",
    "train_images_array = [img_to_array(load_img(\"C:/Users/Lukas/Desktop/commaai-speed-challenge/data/frames/train-of/\"+img, target_size=IMG_DIM)) for img in train_images]\n",
    "train_images_array = np.array(train_images_array)\n",
    "\n",
    "val_images_array = [img_to_array(load_img(\"C:/Users/Lukas/Desktop/commaai-speed-challenge/data/frames/train-of/\"+img, target_size=IMG_DIM)) for img in val_images]\n",
    "val_images_array = np.array(val_images_array)\n",
    "\n",
    "test_images_array = [img_to_array(load_img(\"C:/Users/Lukas/Desktop/commaai-speed-challenge/data/frames/train-of/\"+img, target_size=IMG_DIM)) for img in test_images]\n",
    "test_images_array = np.array(test_images_array)\n",
    "\n",
    "print('Train dataset shape:', train_images_array.shape, '\\tValidation dataset shape:', val_images_array.shape, '\\tTest dataset shape:', test_images_array.shape)\n"
   ]
  },
  {
   "cell_type": "code",
   "execution_count": 7,
   "metadata": {},
   "outputs": [
    {
     "name": "stdout",
     "output_type": "stream",
     "text": [
      "(150, 150, 3)\n"
     ]
    },
    {
     "data": {
      "image/png": "[encoded data removed]",
      "text/plain": [
       "<PIL.Image.Image image mode=RGB size=150x150 at 0x150718B4B50>"
      ]
     },
     "execution_count": 7,
     "metadata": {},
     "output_type": "execute_result"
    }
   ],
   "source": [
    "train_imgs_scaled = train_images_array.astype('float32')\n",
    "val_imgs_scaled  = val_images_array.astype('float32')\n",
    "test_imgs_scaled  = test_images_array.astype('float32')\n",
    "train_imgs_scaled /= 255\n",
    "val_imgs_scaled /= 255\n",
    "test_imgs_scaled /= 255\n",
    "\n",
    "print(train_images_array[0].shape)\n",
    "array_to_img(train_images_array[0])"
   ]
  },
  {
   "cell_type": "code",
   "execution_count": 8,
   "metadata": {},
   "outputs": [],
   "source": [
    "batch_size = 24\n",
    "epochs = 15\n",
    "input_shape = (150, 150, 3)"
   ]
  },
  {
   "cell_type": "code",
   "execution_count": 9,
   "metadata": {},
   "outputs": [],
   "source": [
    "model = Sequential()\n",
    "\n",
    "model.add(Conv2D(32, (8, 8), (4,4), 'same'))\n",
    "model.add(Activation('relu'))\n",
    "\n",
    "model.add(Conv2D(64, (8, 8), (4,4), 'same'))\n",
    "model.add(Activation('relu'))\n",
    "\n",
    "model.add(Conv2D(128, (4, 4), (2,2), 'same'))\n",
    "model.add(Activation('relu'))\n",
    "\n",
    "model.add(Conv2D(128, (2, 2), (1,1), 'same'))\n",
    "model.add(Activation('relu'))\n",
    "\n",
    "model.add(Flatten())\n",
    "\n",
    "model.add(Dropout(0.5))\n",
    "\n",
    "model.add(Dense(128))\n",
    "model.add(Activation('relu'))\n",
    "\n",
    "model.add(Dropout(0.5))\n",
    "\n",
    "model.add(Dense(128))\n",
    "\n",
    "model.add(Dropout(0.5))\n",
    "\n",
    "model.add(Dense(1))\n",
    "\n",
    "model.compile(optimizer=optimizers.Adam(lr=1e-04), loss='mean_squared_error')"
   ]
  },
  {
   "cell_type": "code",
   "execution_count": 10,
   "metadata": {},
   "outputs": [
    {
     "name": "stdout",
     "output_type": "stream",
     "text": [
      "Epoch 1/15\n",
      "595/595 [==============================] - 137s 227ms/step - loss: 102.6268 - val_loss: 59.5564\n",
      "Epoch 2/15\n",
      "595/595 [==============================] - 122s 206ms/step - loss: 25.4663 - val_loss: 48.0901\n",
      "Epoch 3/15\n",
      "595/595 [==============================] - 117s 197ms/step - loss: 20.6535 - val_loss: 55.1599\n",
      "Epoch 4/15\n",
      "595/595 [==============================] - 126s 213ms/step - loss: 17.3013 - val_loss: 61.3274\n",
      "Epoch 5/15\n",
      "595/595 [==============================] - 90s 151ms/step - loss: 14.4211 - val_loss: 57.1692\n",
      "Epoch 6/15\n",
      "595/595 [==============================] - 83s 140ms/step - loss: 13.5665 - val_loss: 52.3915\n",
      "Epoch 7/15\n",
      "595/595 [==============================] - 84s 141ms/step - loss: 12.5998 - val_loss: 55.0782\n",
      "Epoch 8/15\n",
      "595/595 [==============================] - 83s 139ms/step - loss: 11.4100 - val_loss: 60.5927\n",
      "Epoch 9/15\n",
      "595/595 [==============================] - 84s 140ms/step - loss: 10.7839 - val_loss: 46.9731\n",
      "Epoch 10/15\n",
      "595/595 [==============================] - 82s 138ms/step - loss: 9.9589 - val_loss: 57.2616\n",
      "Epoch 11/15\n",
      "595/595 [==============================] - 81s 136ms/step - loss: 9.6962 - val_loss: 55.7597\n",
      "Epoch 12/15\n",
      "595/595 [==============================] - 78s 132ms/step - loss: 9.1241 - val_loss: 81.2768\n",
      "Epoch 13/15\n",
      "595/595 [==============================] - 84s 141ms/step - loss: 8.5040 - val_loss: 80.7660\n",
      "Epoch 14/15\n",
      "595/595 [==============================] - 82s 137ms/step - loss: 8.2277 - val_loss: 84.4006\n",
      "Epoch 15/15\n",
      "595/595 [==============================] - 131s 220ms/step - loss: 7.7976 - val_loss: 73.0391\n"
     ]
    }
   ],
   "source": [
    "history = model.fit(x=train_imgs_scaled, y=train_labels,\n",
    "                    validation_data=(val_imgs_scaled, val_labels),\n",
    "                    batch_size=batch_size,\n",
    "                    epochs=epochs,\n",
    "                    verbose=1)"
   ]
  },
  {
   "cell_type": "code",
   "execution_count": 11,
   "metadata": {},
   "outputs": [
    {
     "data": {
      "image/png": "[encoded data removed]",
      "text/plain": [
       "<Figure size 432x288 with 1 Axes>"
      ]
     },
     "metadata": {
      "needs_background": "light"
     },
     "output_type": "display_data"
    }
   ],
   "source": [
    "loss = history.history['loss']\n",
    "val_loss = history.history['val_loss']\n",
    "\n",
    "epochs_range = range(epochs)\n",
    "\n",
    "plt.subplot(1, 2, 2)\n",
    "plt.plot(epochs_range, loss, label='Training Loss')\n",
    "plt.plot(epochs_range, val_loss, label='Validation Loss')\n",
    "plt.legend(loc='upper right')\n",
    "plt.title('Training and Validation Loss')\n",
    "plt.show()"
   ]
  },
  {
   "cell_type": "code",
   "execution_count": 12,
   "metadata": {},
   "outputs": [
    {
     "name": "stdout",
     "output_type": "stream",
     "text": [
      "85/85 [==============================] - 7s 79ms/step - loss: 42.6274\n"
     ]
    }
   ],
   "source": [
    "results = model.evaluate(test_imgs_scaled, test_labels, batch_size=batch_size)\n"
   ]
  }
 ],
 "metadata": {
  "kernelspec": {
   "display_name": "Python 3",
   "language": "python",
   "name": "python3"
  },
  "language_info": {
   "codemirror_mode": {
    "name": "ipython",
    "version": 3
   },
   "file_extension": ".py",
   "mimetype": "text/x-python",
   "name": "python",
   "nbconvert_exporter": "python",
   "pygments_lexer": "ipython3",
   "version": "3.8.5"
  }
 },
 "nbformat": 4,
 "nbformat_minor": 4
}
