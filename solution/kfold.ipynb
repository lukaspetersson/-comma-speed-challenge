{
 "cells": [
  {
   "cell_type": "code",
   "execution_count": 1,
   "metadata": {
    "executionInfo": {
     "elapsed": 2705,
     "status": "ok",
     "timestamp": 1610056027612,
     "user": {
      "displayName": "Lukas Petersson",
      "photoUrl": "",
      "userId": "13708420744063103447"
     },
     "user_tz": -60
    },
    "id": "lk11nkmCfVpr"
   },
   "outputs": [],
   "source": [
    "import numpy as np\n",
    "import matplotlib.pyplot as plt\n",
    "from keras.preprocessing.image import load_img, img_to_array, array_to_img\n",
    "%matplotlib inline\n",
    "\n",
    "from keras.layers import Conv2D, MaxPooling2D, Flatten, Dense, Dropout, Activation\n",
    "from keras.models import Sequential\n",
    "from keras import optimizers\n",
    "from sklearn.model_selection import  KFold\n",
    "\n",
    "\n",
    "np.random.seed(42)"
   ]
  },
  {
   "cell_type": "code",
   "execution_count": 2,
   "metadata": {
    "colab": {
     "base_uri": "https://localhost:8080/",
     "height": 235
    },
    "executionInfo": {
     "elapsed": 3123,
     "status": "error",
     "timestamp": 1610056028045,
     "user": {
      "displayName": "Lukas Petersson",
      "photoUrl": "",
      "userId": "13708420744063103447"
     },
     "user_tz": -60
    },
    "id": "EKbPsYuTfVq8",
    "outputId": "8e8000f2-6b46-4f10-96ea-d402960e9699"
   },
   "outputs": [],
   "source": [
    "# Create arrays with filenames and lables\n",
    "inFile = open(\"C:/Users/Lukas/Desktop/commaai-speed-challenge/data/train-of.txt\", \"r\")\n",
    "\n",
    "all_images = []\n",
    "all_labels = []\n",
    "for i, v in enumerate(inFile):\n",
    "    all_images.append(str(i)+\".jpg\")\n",
    "    all_labels.append(float(v))"
   ]
  },
  {
   "cell_type": "code",
   "execution_count": 3,
   "metadata": {
    "executionInfo": {
     "elapsed": 3081,
     "status": "aborted",
     "timestamp": 1610056028012,
     "user": {
      "displayName": "Lukas Petersson",
      "photoUrl": "",
      "userId": "13708420744063103447"
     },
     "user_tz": -60
    },
    "id": "MhvLcuOKfVrA"
   },
   "outputs": [],
   "source": [
    "# train_images, val_images, test_images = all_images[: 14280], all_images[14280 : 18360], all_images[18360 :]\n",
    "# train_labels, val_labels, test_labels = all_labels[: 14280], all_labels[14280 : 18360], all_labels[18360 :]"
   ]
  },
  {
   "cell_type": "code",
   "execution_count": 4,
   "metadata": {
    "executionInfo": {
     "elapsed": 3082,
     "status": "aborted",
     "timestamp": 1610056028025,
     "user": {
      "displayName": "Lukas Petersson",
      "photoUrl": "",
      "userId": "13708420744063103447"
     },
     "user_tz": -60
    },
    "id": "Y6AtCsGcfVrC"
   },
   "outputs": [],
   "source": [
    "# import random\n",
    "\n",
    "# rand_train = list(zip(train_images, train_labels))\n",
    "# random.shuffle(rand_train)\n",
    "# train_images, train_labels = zip(*rand_train)\n",
    "\n",
    "# rand_val = list(zip(val_images, val_labels))\n",
    "# random.shuffle(rand_val)\n",
    "# val_images, val_labels = zip(*rand_val)\n",
    "\n",
    "# test_rand = list(zip(test_images, test_labels))\n",
    "# random.shuffle(test_rand)\n",
    "# test_images, test_labels = zip(*test_rand)\n",
    "\n"
   ]
  },
  {
   "cell_type": "code",
   "execution_count": 5,
   "metadata": {
    "executionInfo": {
     "elapsed": 3073,
     "status": "aborted",
     "timestamp": 1610056028027,
     "user": {
      "displayName": "Lukas Petersson",
      "photoUrl": "",
      "userId": "13708420744063103447"
     },
     "user_tz": -60
    },
    "id": "3ayxfs0cfVrD"
   },
   "outputs": [],
   "source": [
    "# train_images = np.array(train_images)\n",
    "# train_labels = np.array(train_labels)\n",
    "\n",
    "# val_images = np.array(val_images)\n",
    "# val_labels = np.array(val_labels)\n",
    "\n",
    "# test_images = np.array(test_images)\n",
    "# test_labels = np.array(test_labels)\n",
    "\n",
    "all_images = np.array(all_images)\n",
    "all_labels = np.array(all_labels)"
   ]
  },
  {
   "cell_type": "code",
   "execution_count": 6,
   "metadata": {
    "executionInfo": {
     "elapsed": 3069,
     "status": "aborted",
     "timestamp": 1610056028032,
     "user": {
      "displayName": "Lukas Petersson",
      "photoUrl": "",
      "userId": "13708420744063103447"
     },
     "user_tz": -60
    },
    "id": "M7vx_ertfVrH"
   },
   "outputs": [],
   "source": [
    "IMG_DIM = (150, 150)\n",
    "\n",
    "# train_images_array = [img_to_array(load_img(\"/content/train-of/\"+img, target_size=IMG_DIM)) for img in train_images]\n",
    "# train_images_array = np.array(train_images_array)\n",
    "\n",
    "# val_images_array = [img_to_array(load_img(\"/content/train-of/\"+img, target_size=IMG_DIM)) for img in val_images]\n",
    "# val_images_array = np.array(val_images_array)\n",
    "\n",
    "# test_images_array = [img_to_array(load_img(\"/content/train-of/\"+img, target_size=IMG_DIM)) for img in test_images]\n",
    "# test_images_array = np.array(test_images_array)\n",
    "\n",
    "all_images_array = [img_to_array(load_img(\"C:/Users/Lukas/Desktop/commaai-speed-challenge/data/frames/train-of/\"+img, target_size=IMG_DIM)) for img in all_images]\n",
    "all_images_array = np.array(all_images_array)"
   ]
  },
  {
   "cell_type": "code",
   "execution_count": 7,
   "metadata": {
    "executionInfo": {
     "elapsed": 3060,
     "status": "aborted",
     "timestamp": 1610056028037,
     "user": {
      "displayName": "Lukas Petersson",
      "photoUrl": "",
      "userId": "13708420744063103447"
     },
     "user_tz": -60
    },
    "id": "qfUwSP2QfVrO"
   },
   "outputs": [],
   "source": [
    "# train_images_array = train_images_array.astype('float32')\n",
    "# val_images_array  = val_images_array.astype('float32')\n",
    "# test_images_array  = test_images_array.astype('float32')\n",
    "# train_images_array /= 127.5\n",
    "# train_images_array -= 1\n",
    "# val_images_array /= 127.5\n",
    "# val_images_array -= 1\n",
    "# test_images_array /= 127.5\n",
    "# test_images_array -= 1\n",
    "\n",
    "all_images_array  = all_images_array.astype('float32')\n",
    "all_images_array /= 255\n"
   ]
  },
  {
   "cell_type": "code",
   "execution_count": 8,
   "metadata": {
    "executionInfo": {
     "elapsed": 3051,
     "status": "aborted",
     "timestamp": 1610056028038,
     "user": {
      "displayName": "Lukas Petersson",
      "photoUrl": "",
      "userId": "13708420744063103447"
     },
     "user_tz": -60
    },
    "id": "mKCQx9j0fVrR"
   },
   "outputs": [],
   "source": [
    "model = Sequential()\n",
    "\n",
    "model.add(Conv2D(32, (8, 8), (4,4), 'same'))\n",
    "model.add(Activation('relu'))\n",
    "\n",
    "model.add(Conv2D(64, (8, 8), (4,4), 'same'))\n",
    "model.add(Activation('relu'))\n",
    "\n",
    "model.add(Conv2D(128, (4, 4), (2,2), 'same'))\n",
    "model.add(Activation('relu'))\n",
    "\n",
    "model.add(Conv2D(128, (2, 2), (1,1), 'same'))\n",
    "model.add(Activation('relu'))\n",
    "\n",
    "model.add(Flatten())\n",
    "\n",
    "model.add(Dropout(0.5))\n",
    "\n",
    "model.add(Dense(128))\n",
    "model.add(Activation('relu'))\n",
    "\n",
    "model.add(Dropout(0.5))\n",
    "\n",
    "model.add(Dense(128))\n",
    "\n",
    "model.add(Dropout(0.5))\n",
    "\n",
    "model.add(Dense(1))\n",
    "\n",
    "model.compile(optimizer=optimizers.Adam(lr=1e-04), loss='mean_squared_error')"
   ]
  },
  {
   "cell_type": "code",
   "execution_count": 9,
   "metadata": {
    "executionInfo": {
     "elapsed": 3045,
     "status": "aborted",
     "timestamp": 1610056028039,
     "user": {
      "displayName": "Lukas Petersson",
      "photoUrl": "",
      "userId": "13708420744063103447"
     },
     "user_tz": -60
    },
    "id": "vuX5e-V9oNqb"
   },
   "outputs": [],
   "source": [
    "# train_images_array = train_images_array[:,:,:,[0,2]]\r\n",
    "# val_images_array = val_images_array[:,:,:,[0,2]]\r\n",
    "# test_images_array = test_images_array[:,:,:,[0,2]]"
   ]
  },
  {
   "cell_type": "code",
   "execution_count": 10,
   "metadata": {
    "executionInfo": {
     "elapsed": 3038,
     "status": "aborted",
     "timestamp": 1610056028040,
     "user": {
      "displayName": "Lukas Petersson",
      "photoUrl": "",
      "userId": "13708420744063103447"
     },
     "user_tz": -60
    },
    "id": "JJXBsNZhfVrQ"
   },
   "outputs": [],
   "source": [
    "batch_size = 24\n",
    "epochs = 3\n",
    "input_shape = (150, 150, 3)\n",
    "split_count = 5\n",
    "kf = KFold(shuffle = False, n_splits = split_count)\n"
   ]
  },
  {
   "cell_type": "code",
   "execution_count": 11,
   "metadata": {},
   "outputs": [],
   "source": [
    "train_images_array, test_images_array = all_images_array[: 17340], all_images_array[17340 :]\n",
    "train_labels, test_labels = all_labels[: 17340], all_labels[17340 :]"
   ]
  },
  {
   "cell_type": "code",
   "execution_count": 12,
   "metadata": {
    "executionInfo": {
     "elapsed": 3035,
     "status": "aborted",
     "timestamp": 1610056028043,
     "user": {
      "displayName": "Lukas Petersson",
      "photoUrl": "",
      "userId": "13708420744063103447"
     },
     "user_tz": -60
    },
    "id": "wPBv4f7WfVra"
   },
   "outputs": [
    {
     "name": "stdout",
     "output_type": "stream",
     "text": [
      "Epoch 1/3\n",
      "578/578 [==============================] - 94s 152ms/step - loss: 80.2437 - val_loss: 21.5414\n",
      "Epoch 2/3\n",
      "578/578 [==============================] - 69s 120ms/step - loss: 24.5132 - val_loss: 17.0416\n",
      "Epoch 3/3\n",
      "578/578 [==============================] - 67s 116ms/step - loss: 19.2048 - val_loss: 13.1398\n",
      "Epoch 1/3\n",
      "578/578 [==============================] - 107s 184ms/step - loss: 16.1395 - val_loss: 15.0424\n",
      "Epoch 2/3\n",
      "578/578 [==============================] - 95s 165ms/step - loss: 13.9746 - val_loss: 14.8854\n",
      "Epoch 3/3\n",
      "578/578 [==============================] - 96s 167ms/step - loss: 12.6054 - val_loss: 13.5978\n",
      "Epoch 1/3\n",
      "578/578 [==============================] - 114s 196ms/step - loss: 12.0135 - val_loss: 14.2790\n",
      "Epoch 2/3\n",
      "578/578 [==============================] - 80s 138ms/step - loss: 10.7459 - val_loss: 17.6859\n",
      "Epoch 3/3\n",
      "578/578 [==============================] - 74s 128ms/step - loss: 10.1737 - val_loss: 19.4532\n",
      "Epoch 1/3\n",
      "578/578 [==============================] - 99s 171ms/step - loss: 12.4939 - val_loss: 4.0247\n",
      "Epoch 2/3\n",
      "578/578 [==============================] - 70s 121ms/step - loss: 11.0957 - val_loss: 5.1530\n",
      "Epoch 3/3\n",
      "578/578 [==============================] - 70s 121ms/step - loss: 10.3727 - val_loss: 6.2292\n"
     ]
    },
    {
     "ename": "MemoryError",
     "evalue": "Unable to allocate 893. MiB for an array with shape (3468, 150, 150, 3) and data type float32",
     "output_type": "error",
     "traceback": [
      "\u001b[1;31m---------------------------------------------------------------------------\u001b[0m",
      "\u001b[1;31mMemoryError\u001b[0m                               Traceback (most recent call last)",
      "\u001b[1;32m<ipython-input-12-faeb72a4b1f3>\u001b[0m in \u001b[0;36m<module>\u001b[1;34m\u001b[0m\n\u001b[0;32m      1\u001b[0m \u001b[1;32mfor\u001b[0m \u001b[0mtrain_index\u001b[0m\u001b[1;33m,\u001b[0m \u001b[0mtest_index\u001b[0m \u001b[1;32min\u001b[0m \u001b[0mkf\u001b[0m\u001b[1;33m.\u001b[0m\u001b[0msplit\u001b[0m\u001b[1;33m(\u001b[0m\u001b[0mtrain_images_array\u001b[0m\u001b[1;33m)\u001b[0m\u001b[1;33m:\u001b[0m\u001b[1;33m\u001b[0m\u001b[1;33m\u001b[0m\u001b[0m\n\u001b[0;32m      2\u001b[0m     history = model.fit(x=train_images_array[train_index], y=train_labels[train_index],\n\u001b[1;32m----> 3\u001b[1;33m                       \u001b[0mvalidation_data\u001b[0m\u001b[1;33m=\u001b[0m\u001b[1;33m(\u001b[0m\u001b[0mtrain_images_array\u001b[0m\u001b[1;33m[\u001b[0m\u001b[0mtest_index\u001b[0m\u001b[1;33m]\u001b[0m\u001b[1;33m,\u001b[0m \u001b[0mtrain_labels\u001b[0m\u001b[1;33m[\u001b[0m\u001b[0mtest_index\u001b[0m\u001b[1;33m]\u001b[0m\u001b[1;33m)\u001b[0m\u001b[1;33m,\u001b[0m\u001b[1;33m\u001b[0m\u001b[1;33m\u001b[0m\u001b[0m\n\u001b[0m\u001b[0;32m      4\u001b[0m                       \u001b[0mbatch_size\u001b[0m\u001b[1;33m=\u001b[0m\u001b[0mbatch_size\u001b[0m\u001b[1;33m,\u001b[0m\u001b[1;33m\u001b[0m\u001b[1;33m\u001b[0m\u001b[0m\n\u001b[0;32m      5\u001b[0m                       \u001b[0mepochs\u001b[0m\u001b[1;33m=\u001b[0m\u001b[0mepochs\u001b[0m\u001b[1;33m,\u001b[0m\u001b[1;33m\u001b[0m\u001b[1;33m\u001b[0m\u001b[0m\n",
      "\u001b[1;31mMemoryError\u001b[0m: Unable to allocate 893. MiB for an array with shape (3468, 150, 150, 3) and data type float32"
     ]
    }
   ],
   "source": [
    "for train_index, test_index in kf.split(train_images_array):\n",
    "    history = model.fit(x=train_images_array[train_index], y=train_labels[train_index],\n",
    "                      validation_data=(train_images_array[test_index], train_labels[test_index]),\n",
    "                      batch_size=batch_size,\n",
    "                      epochs=epochs,\n",
    "                      verbose=1)"
   ]
  },
  {
   "cell_type": "code",
   "execution_count": 13,
   "metadata": {
    "executionInfo": {
     "elapsed": 3027,
     "status": "aborted",
     "timestamp": 1610056028043,
     "user": {
      "displayName": "Lukas Petersson",
      "photoUrl": "",
      "userId": "13708420744063103447"
     },
     "user_tz": -60
    },
    "id": "6C5NczlTfVrj"
   },
   "outputs": [
    {
     "data": {
      "image/png": "[encoded data removed]",
      "text/plain": [
       "<Figure size 432x288 with 1 Axes>"
      ]
     },
     "metadata": {
      "needs_background": "light"
     },
     "output_type": "display_data"
    }
   ],
   "source": [
    "loss = history.history['loss']\n",
    "val_loss = history.history['val_loss']\n",
    "\n",
    "epochs_range = range(epochs)\n",
    "\n",
    "plt.subplot(1, 2, 2)\n",
    "plt.plot(epochs_range, loss, label='Training Loss')\n",
    "plt.plot(epochs_range, val_loss, label='Validation Loss')\n",
    "plt.legend(loc='upper right')\n",
    "plt.title('Training and Validation Loss')\n",
    "plt.show()"
   ]
  },
  {
   "cell_type": "code",
   "execution_count": 14,
   "metadata": {
    "executionInfo": {
     "elapsed": 3021,
     "status": "aborted",
     "timestamp": 1610056028044,
     "user": {
      "displayName": "Lukas Petersson",
      "photoUrl": "",
      "userId": "13708420744063103447"
     },
     "user_tz": -60
    },
    "id": "8Yr60bvlfVsN"
   },
   "outputs": [
    {
     "name": "stdout",
     "output_type": "stream",
     "text": [
      "128/128 [==============================] - 5s 35ms/step - loss: 18.5231\n"
     ]
    }
   ],
   "source": [
    "results = model.evaluate(test_images_array, test_labels, batch_size=batch_size)\n"
   ]
  },
  {
   "cell_type": "raw",
   "metadata": {},
   "source": [
    "model.save('model_kfold.h5')"
   ]
  },
  {
   "cell_type": "code",
   "execution_count": null,
   "metadata": {},
   "outputs": [],
   "source": []
  }
 ],
 "metadata": {
  "accelerator": "GPU",
  "colab": {
   "name": "train_model.ipynb",
   "provenance": []
  },
  "kernelspec": {
   "display_name": "Python 3",
   "language": "python",
   "name": "python3"
  },
  "language_info": {
   "codemirror_mode": {
    "name": "ipython",
    "version": 3
   },
   "file_extension": ".py",
   "mimetype": "text/x-python",
   "name": "python",
   "nbconvert_exporter": "python",
   "pygments_lexer": "ipython3",
   "version": "3.8.5"
  }
 },
 "nbformat": 4,
 "nbformat_minor": 4
}
