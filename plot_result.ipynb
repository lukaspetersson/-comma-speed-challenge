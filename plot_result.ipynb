{
 "cells": [
  {
   "cell_type": "code",
   "execution_count": 20,
   "metadata": {},
   "outputs": [],
   "source": [
    "import numpy as np\n",
    "import matplotlib.pyplot as plt"
   ]
  },
  {
   "cell_type": "code",
   "execution_count": 4,
   "metadata": {},
   "outputs": [],
   "source": [
    "path = \"C:/Users/Lukas/Desktop/commaai-speed-challenge/data/test.txt\"\n",
    "def getLabels():\n",
    "    labels = []\n",
    "    f = open(path,'r')\n",
    "    for l in f:\n",
    "        labels.append(float(l))\n",
    "    labels = np.array(labels)\n",
    "    return labels"
   ]
  },
  {
   "cell_type": "code",
   "execution_count": 139,
   "metadata": {},
   "outputs": [],
   "source": [
    "labels = getLabels()"
   ]
  },
  {
   "cell_type": "code",
   "execution_count": 158,
   "metadata": {},
   "outputs": [
    {
     "data": {
      "image/png": "[encoded data removed]",
      "text/plain": [
       "<Figure size 432x288 with 1 Axes>"
      ]
     },
     "metadata": {
      "needs_background": "light"
     },
     "output_type": "display_data"
    }
   ],
   "source": [
    "start = (0,17)\n",
    "end = (0,30)\n",
    "s_frame_nr = int(start[1]*20+start[0]*20*60)\n",
    "e_frame_nr = int(end[1]*20+end[0]*20*60)\n",
    "\n",
    "\n",
    "plt.plot(labels[s_frame_nr:e_frame_nr],'r-')\n",
    "plt.show()"
   ]
  },
  {
   "cell_type": "code",
   "execution_count": 141,
   "metadata": {},
   "outputs": [],
   "source": [
    "#set Zero\n",
    "for i in range(s_frame_nr, e_frame_nr):\n",
    "    labels[i] = 0;"
   ]
  },
  {
   "cell_type": "code",
   "execution_count": 152,
   "metadata": {},
   "outputs": [],
   "source": [
    "#set Linear\n",
    "\n",
    "length = e_frame_nr - s_frame_nr\n",
    "diff = labels[e_frame_nr] - labels[s_frame_nr]\n",
    "s_val = labels[s_frame_nr]\n",
    "for i in range(0, int(length)):\n",
    "    labels[i+s_frame_nr] = s_val + i * (diff/length)"
   ]
  },
  {
   "cell_type": "code",
   "execution_count": 156,
   "metadata": {},
   "outputs": [],
   "source": [
    "labels = rollingMean(labels)"
   ]
  },
  {
   "cell_type": "code",
   "execution_count": 154,
   "metadata": {},
   "outputs": [],
   "source": [
    "with open(path, \"w\") as f:\n",
    "    for speed in labels:\n",
    "        f.write(str(speed)+\"\\n\")"
   ]
  },
  {
   "cell_type": "code",
   "execution_count": 155,
   "metadata": {},
   "outputs": [],
   "source": [
    "def rollingMean(mylist):\n",
    "    ROLLING_MEAN = 21\n",
    "    avrg = []\n",
    "\n",
    "    first = 0\n",
    "    for i in range(ROLLING_MEAN):\n",
    "        first += (mylist[max(i-ROLLING_MEAN//2, 0)] / ROLLING_MEAN)\n",
    "    avrg.append(first)\n",
    "    \n",
    "    for i in range(1, len(mylist)):\n",
    "        last = avrg[i-1] * ROLLING_MEAN\n",
    "        past = mylist[max(i-1-ROLLING_MEAN//2, 0)]\n",
    "        new =  mylist[min(i+ROLLING_MEAN//2, len(mylist)-1)]\n",
    "        avrg.append((last - past + new)/ROLLING_MEAN)\n",
    "    return avrg"
   ]
  },
  {
   "cell_type": "code",
   "execution_count": null,
   "metadata": {},
   "outputs": [],
   "source": []
  }
 ],
 "metadata": {
  "kernelspec": {
   "display_name": "Python 3",
   "language": "python",
   "name": "python3"
  },
  "language_info": {
   "codemirror_mode": {
    "name": "ipython",
    "version": 3
   },
   "file_extension": ".py",
   "mimetype": "text/x-python",
   "name": "python",
   "nbconvert_exporter": "python",
   "pygments_lexer": "ipython3",
   "version": "3.8.5"
  }
 },
 "nbformat": 4,
 "nbformat_minor": 4
}
